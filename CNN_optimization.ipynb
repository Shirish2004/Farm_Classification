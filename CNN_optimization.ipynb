{
 "cells": [
  {
   "cell_type": "markdown",
   "metadata": {
    "id": "T-n9zYxAFl-E"
   },
   "source": [
    "**Using Optuna for hyperparameter tuning and then selecting the best architecture for further methods and processing**"
   ]
  },
  {
   "cell_type": "code",
   "execution_count": 1,
   "metadata": {
    "colab": {
     "base_uri": "https://localhost:8080/"
    },
    "execution": {
     "iopub.execute_input": "2023-04-06T16:04:20.151436Z",
     "iopub.status.busy": "2023-04-06T16:04:20.150509Z",
     "iopub.status.idle": "2023-04-06T16:05:02.869301Z",
     "shell.execute_reply": "2023-04-06T16:05:02.867280Z",
     "shell.execute_reply.started": "2023-04-06T16:04:20.151398Z"
    },
    "id": "Q2oSPjRHFbhc",
    "outputId": "e5e9df92-e630-4baf-94d0-8efa3f1eab7d"
   },
   "outputs": [
    {
     "name": "stdout",
     "output_type": "stream",
     "text": [
      "Requirement already satisfied: optuna in /opt/conda/lib/python3.7/site-packages (3.1.0)\n",
      "Requirement already satisfied: alembic>=1.5.0 in /opt/conda/lib/python3.7/site-packages (from optuna) (1.10.2)\n",
      "Requirement already satisfied: numpy in /opt/conda/lib/python3.7/site-packages (from optuna) (1.21.6)\n",
      "Requirement already satisfied: sqlalchemy>=1.3.0 in /opt/conda/lib/python3.7/site-packages (from optuna) (1.4.46)\n",
      "Requirement already satisfied: packaging>=20.0 in /opt/conda/lib/python3.7/site-packages (from optuna) (23.0)\n",
      "Requirement already satisfied: tqdm in /opt/conda/lib/python3.7/site-packages (from optuna) (4.64.1)\n",
      "Requirement already satisfied: cmaes>=0.9.1 in /opt/conda/lib/python3.7/site-packages (from optuna) (0.9.1)\n",
      "Requirement already satisfied: PyYAML in /opt/conda/lib/python3.7/site-packages (from optuna) (6.0)\n",
      "Requirement already satisfied: colorlog in /opt/conda/lib/python3.7/site-packages (from optuna) (6.7.0)\n",
      "Requirement already satisfied: importlib-metadata in /opt/conda/lib/python3.7/site-packages (from alembic>=1.5.0->optuna) (4.11.4)\n",
      "Requirement already satisfied: typing-extensions>=4 in /opt/conda/lib/python3.7/site-packages (from alembic>=1.5.0->optuna) (4.4.0)\n",
      "Requirement already satisfied: Mako in /opt/conda/lib/python3.7/site-packages (from alembic>=1.5.0->optuna) (1.2.4)\n",
      "Requirement already satisfied: importlib-resources in /opt/conda/lib/python3.7/site-packages (from alembic>=1.5.0->optuna) (5.10.2)\n",
      "Requirement already satisfied: greenlet!=0.4.17 in /opt/conda/lib/python3.7/site-packages (from sqlalchemy>=1.3.0->optuna) (2.0.1)\n",
      "Requirement already satisfied: zipp>=0.5 in /opt/conda/lib/python3.7/site-packages (from importlib-metadata->alembic>=1.5.0->optuna) (3.11.0)\n",
      "Requirement already satisfied: MarkupSafe>=0.9.2 in /opt/conda/lib/python3.7/site-packages (from Mako->alembic>=1.5.0->optuna) (2.1.1)\n",
      "\u001b[33mWARNING: Running pip as the 'root' user can result in broken permissions and conflicting behaviour with the system package manager. It is recommended to use a virtual environment instead: https://pip.pypa.io/warnings/venv\u001b[0m\u001b[33m\n",
      "\u001b[0mCollecting gdown\n",
      "  Downloading gdown-4.7.1-py3-none-any.whl (15 kB)\n",
      "Requirement already satisfied: requests[socks] in /opt/conda/lib/python3.7/site-packages (from gdown) (2.28.2)\n",
      "Requirement already satisfied: filelock in /opt/conda/lib/python3.7/site-packages (from gdown) (3.9.0)\n",
      "Requirement already satisfied: tqdm in /opt/conda/lib/python3.7/site-packages (from gdown) (4.64.1)\n",
      "Requirement already satisfied: six in /opt/conda/lib/python3.7/site-packages (from gdown) (1.16.0)\n",
      "Requirement already satisfied: beautifulsoup4 in /opt/conda/lib/python3.7/site-packages (from gdown) (4.11.1)\n",
      "Requirement already satisfied: soupsieve>1.2 in /opt/conda/lib/python3.7/site-packages (from beautifulsoup4->gdown) (2.3.2.post1)\n",
      "Requirement already satisfied: urllib3<1.27,>=1.21.1 in /opt/conda/lib/python3.7/site-packages (from requests[socks]->gdown) (1.26.14)\n",
      "Requirement already satisfied: idna<4,>=2.5 in /opt/conda/lib/python3.7/site-packages (from requests[socks]->gdown) (3.4)\n",
      "Requirement already satisfied: charset-normalizer<4,>=2 in /opt/conda/lib/python3.7/site-packages (from requests[socks]->gdown) (2.1.1)\n",
      "Requirement already satisfied: certifi>=2017.4.17 in /opt/conda/lib/python3.7/site-packages (from requests[socks]->gdown) (2022.12.7)\n",
      "Requirement already satisfied: PySocks!=1.5.7,>=1.5.6 in /opt/conda/lib/python3.7/site-packages (from requests[socks]->gdown) (1.7.1)\n",
      "Installing collected packages: gdown\n",
      "Successfully installed gdown-4.7.1\n",
      "\u001b[33mWARNING: Running pip as the 'root' user can result in broken permissions and conflicting behaviour with the system package manager. It is recommended to use a virtual environment instead: https://pip.pypa.io/warnings/venv\u001b[0m\u001b[33m\n",
      "\u001b[0m/opt/conda/lib/python3.7/site-packages/gdown/cli.py:130: FutureWarning: Option `--id` was deprecated in version 4.3.1 and will be removed in 5.0. You don't need to pass it anymore to use a file ID.\n",
      "  category=FutureWarning,\n",
      "Downloading...\n",
      "From (uriginal): https://drive.google.com/uc?id=1lUZssANz3BVri3pef2Hxz1XAnlvushrA\n",
      "From (redirected): https://drive.google.com/uc?id=1lUZssANz3BVri3pef2Hxz1XAnlvushrA&confirm=t&uuid=a649ab4e-897d-4201-ab02-be8fa2deb4ad\n",
      "To: /kaggle/working/dataset.npy\n",
      "100%|███████████████████████████████████████| 1.79G/1.79G [00:09<00:00, 189MB/s]\n"
     ]
    }
   ],
   "source": [
    "#Library import \n",
    "!pip3 install optuna\n",
    "!pip3 install gdown\n",
    "import optuna\n",
    "import tensorflow as tf\n",
    "from tensorflow.keras.layers import Conv2D, Dense, Dropout, Flatten, MaxPooling2D\n",
    "from tensorflow.keras.models import Sequential\n",
    "from tensorflow.keras.optimizers import Adam\n",
    "import numpy as np \n",
    "np.random.RandomState(seed=42)\n",
    "!gdown --id 1lUZssANz3BVri3pef2Hxz1XAnlvushrA"
   ]
  },
  {
   "cell_type": "code",
   "execution_count": 2,
   "metadata": {
    "colab": {
     "base_uri": "https://localhost:8080/"
    },
    "execution": {
     "iopub.execute_input": "2023-04-06T16:05:02.875391Z",
     "iopub.status.busy": "2023-04-06T16:05:02.874360Z",
     "iopub.status.idle": "2023-04-06T16:05:04.291910Z",
     "shell.execute_reply": "2023-04-06T16:05:04.290811Z",
     "shell.execute_reply.started": "2023-04-06T16:05:02.875354Z"
    },
    "id": "KHSRvZBZHUDh",
    "outputId": "a117399c-56a1-42c3-b863-d8ebd42a348e"
   },
   "outputs": [
    {
     "data": {
      "text/plain": [
       "(11446, 2)"
      ]
     },
     "execution_count": 2,
     "metadata": {},
     "output_type": "execute_result"
    }
   ],
   "source": [
    "\n",
    "# Load dataset\n",
    "data = np.load('/kaggle/working/dataset.npy', allow_pickle = True)\n",
    "data.shape"
   ]
  },
  {
   "cell_type": "markdown",
   "metadata": {},
   "source": [
    "try:\n",
    "    tpu = tf.distribute.cluster_resolver.TPUClusterResolver()\n",
    "    print('Device:', tpu.master())\n",
    "    tf.config.experimental_connect_to_cluster(tpu)\n",
    "    tf.tpu.experimental.initialize_tpu_system(tpu)\n",
    "    strategy = tf.distribute.experimental.TPUStrategy(tpu)\n",
    "except:\n",
    "    strategy = tf.distribute.get_strategy()\n",
    "print('Number of replicas:', strategy.num_replicas_in_sync)"
   ]
  },
  {
   "cell_type": "code",
   "execution_count": 3,
   "metadata": {
    "colab": {
     "base_uri": "https://localhost:8080/"
    },
    "execution": {
     "iopub.execute_input": "2023-04-06T16:05:04.295139Z",
     "iopub.status.busy": "2023-04-06T16:05:04.294837Z",
     "iopub.status.idle": "2023-04-06T16:05:04.384707Z",
     "shell.execute_reply": "2023-04-06T16:05:04.383325Z",
     "shell.execute_reply.started": "2023-04-06T16:05:04.295110Z"
    },
    "id": "kJBUii4IHXQm",
    "outputId": "beea29a5-709e-4252-da9b-26c82e84e60f"
   },
   "outputs": [
    {
     "name": "stdout",
     "output_type": "stream",
     "text": [
      "Sample of X:  [[[ 79 108 117]\n",
      "  [ 70  99 109]\n",
      "  [ 87 116 129]\n",
      "  ...\n",
      "  [110 132 186]\n",
      "  [107 129 183]\n",
      "  [ 99 120 175]]\n",
      "\n",
      " [[ 74  98 124]\n",
      "  [ 90 114 141]\n",
      "  [101 125 152]\n",
      "  ...\n",
      "  [ 97 118 169]\n",
      "  [101 122 174]\n",
      "  [ 98 119 170]]\n",
      "\n",
      " [[ 86 110 135]\n",
      "  [ 87 112 137]\n",
      "  [ 82 106 133]\n",
      "  ...\n",
      "  [ 93 112 159]\n",
      "  [ 82 100 148]\n",
      "  [ 69  86 134]]\n",
      "\n",
      " ...\n",
      "\n",
      " [[120 135 173]\n",
      "  [119 134 172]\n",
      "  [118 133 171]\n",
      "  ...\n",
      "  [111 129 179]\n",
      "  [109 127 177]\n",
      "  [105 123 173]]\n",
      "\n",
      " [[119 134 172]\n",
      "  [118 133 171]\n",
      "  [119 134 172]\n",
      "  ...\n",
      "  [111 129 179]\n",
      "  [106 124 174]\n",
      "  [109 127 177]]\n",
      "\n",
      " [[119 132 173]\n",
      "  [118 132 172]\n",
      "  [122 135 178]\n",
      "  ...\n",
      "  [116 134 184]\n",
      "  [113 131 181]\n",
      "  [117 135 185]]]\n",
      "Sample of Y:  [0. 1. 0.]\n"
     ]
    }
   ],
   "source": [
    "\n",
    "#creating features and target variables \n",
    "X=[]#features \n",
    "Y=[]#target\n",
    "for x in range(data.shape[0]):\n",
    "    if data[x][1]==1 or data[x][1]==2 or data[x][1]==3:\n",
    "        X.append(data[x][0])\n",
    "        Y.append(data[x][1])\n",
    "#Creating target variable as sparse \n",
    "from sklearn.preprocessing import OneHotEncoder\n",
    "y=np.array(Y).reshape(-1,1)\n",
    "encoder = OneHotEncoder()\n",
    "encoder.fit(y)\n",
    "y_encoded = encoder.transform(y).toarray()\n",
    "\n",
    "print(\"Sample of X: \",X[0])\n",
    "print(\"Sample of Y: \",y_encoded[0])\n"
   ]
  },
  {
   "cell_type": "code",
   "execution_count": 4,
   "metadata": {
    "execution": {
     "iopub.execute_input": "2023-04-06T16:05:04.388805Z",
     "iopub.status.busy": "2023-04-06T16:05:04.387581Z",
     "iopub.status.idle": "2023-04-06T16:05:11.390434Z",
     "shell.execute_reply": "2023-04-06T16:05:11.389342Z",
     "shell.execute_reply.started": "2023-04-06T16:05:04.388759Z"
    },
    "id": "jS5SeUmaHjeu"
   },
   "outputs": [],
   "source": [
    "\n",
    "#splitting the dataset\n",
    "from sklearn.model_selection import train_test_split\n",
    "x_train,x_test,y_train,y_test=train_test_split(np.array(X),y_encoded,test_size=0.2,random_state=42)\n",
    "#normalizing the pixel values \n",
    "x_train=x_train/255.0\n",
    "x_test=x_test/255.0\n"
   ]
  },
  {
   "cell_type": "code",
   "execution_count": 5,
   "metadata": {
    "colab": {
     "base_uri": "https://localhost:8080/"
    },
    "execution": {
     "iopub.execute_input": "2023-04-06T16:05:11.392847Z",
     "iopub.status.busy": "2023-04-06T16:05:11.392395Z",
     "iopub.status.idle": "2023-04-06T16:05:11.401223Z",
     "shell.execute_reply": "2023-04-06T16:05:11.399784Z",
     "shell.execute_reply.started": "2023-04-06T16:05:11.392781Z"
    },
    "id": "8JltzcNFJ2J8",
    "outputId": "e2e015a8-6adb-4a80-9720-b1620e851715"
   },
   "outputs": [
    {
     "name": "stdout",
     "output_type": "stream",
     "text": [
      "Shape of X Train data is :  (1191, 228, 228, 3) \n",
      "************\n",
      "Shape of Y Train data is :  (1191, 3) \n",
      "************\n",
      "Shape of X test data is :  (298, 228, 228, 3) \n",
      "************\n",
      "Shape of Y test data is :  (298, 3) \n",
      "************\n"
     ]
    }
   ],
   "source": [
    "print(\"Shape of X Train data is : \",x_train.shape,\"\\n************\")\n",
    "print(\"Shape of Y Train data is : \",y_train.shape,\"\\n************\")\n",
    "print(\"Shape of X test data is : \",x_test.shape,\"\\n************\")\n",
    "print(\"Shape of Y test data is : \",y_test.shape,\"\\n************\")"
   ]
  },
  {
   "cell_type": "code",
   "execution_count": 6,
   "metadata": {
    "execution": {
     "iopub.execute_input": "2023-04-06T16:05:11.404297Z",
     "iopub.status.busy": "2023-04-06T16:05:11.403021Z",
     "iopub.status.idle": "2023-04-06T16:05:11.417634Z",
     "shell.execute_reply": "2023-04-06T16:05:11.416453Z",
     "shell.execute_reply.started": "2023-04-06T16:05:11.404248Z"
    },
    "id": "8gAsOPW3JxGJ"
   },
   "outputs": [],
   "source": [
    "\n",
    "# Define CNN model architecture\n",
    "# with strategy.scope(): \n",
    "def create_model(trial):      \n",
    "            learning_rate = trial.suggest_loguniform(\"learning_rate\", 1e-5, 1e-2)\n",
    "            num_layers = trial.suggest_int(\"num_layers\", 1, 5)\n",
    "            activation = trial.suggest_categorical(\"activation\", [\"relu\", \"tanh\", \"sigmoid\"])\n",
    "            model = Sequential()\n",
    "            model.add(Conv2D(\n",
    "                filters=trial.suggest_int(\"filters\", 32, 128),\n",
    "                kernel_size=trial.suggest_int(\"kernel_size\", 3, 5),\n",
    "                padding=\"same\",\n",
    "                activation=activation,\n",
    "                input_shape=(228, 228, 3)\n",
    "            ))\n",
    "            model.add(MaxPooling2D(pool_size=(2, 2)))\n",
    "            model.add(Dropout(rate=trial.suggest_float(\"dropout_rate\", 0.1, 0.5)))\n",
    "            model.add(Conv2D(\n",
    "                    filters=trial.suggest_int(\"filters\", 32, 128),\n",
    "                    kernel_size=trial.suggest_int(\"kernel_size\", 3, 5),\n",
    "                    padding=\"same\",\n",
    "                    activation=activation\n",
    "                ))\n",
    "            model.add(MaxPooling2D(pool_size=(2, 2)))\n",
    "            model.add(Dropout(rate=trial.suggest_float(\"dropout_rate\", 0.1, 0.5)))\n",
    "            model.add(Flatten())\n",
    "            for i in range(num_layers):\n",
    "                  model.add(Dense(\n",
    "                      units=trial.suggest_int(\"units\", 64, 1024),\n",
    "                      activation=activation\n",
    "                  ))\n",
    "            model.add(Dropout(rate=trial.suggest_float(\"dropout_rate\", 0.1, 0.5)))\n",
    "            model.add(Dense(units=3, activation=\"softmax\"))\n",
    "            model.compile(optimizer=Adam(learning_rate=learning_rate), loss=\"categorical_crossentropy\", metrics=[\"accuracy\"])\n",
    "            return model\n"
   ]
  },
  {
   "cell_type": "code",
   "execution_count": 7,
   "metadata": {
    "execution": {
     "iopub.execute_input": "2023-04-06T16:05:11.419838Z",
     "iopub.status.busy": "2023-04-06T16:05:11.419303Z",
     "iopub.status.idle": "2023-04-06T16:05:11.433980Z",
     "shell.execute_reply": "2023-04-06T16:05:11.432845Z",
     "shell.execute_reply.started": "2023-04-06T16:05:11.419736Z"
    },
    "id": "PxPF6cjbJylH"
   },
   "outputs": [],
   "source": [
    "\n",
    "# Define objective function for Optuna to optimize\n",
    "def objective(trial):\n",
    "\n",
    "    model = create_model(trial)\n",
    "    history=model.fit(x_train, y_train, validation_data=(x_test, y_test), epochs=10, batch_size=32, verbose=0)\n",
    "    # accuracy = model.evaluate(x_test, y_test, verbose=0)[1]\n",
    "    val_acc = history.history['val_accuracy'][-1]\n",
    "    return val_acc\n"
   ]
  },
  {
   "cell_type": "code",
   "execution_count": 8,
   "metadata": {
    "colab": {
     "base_uri": "https://localhost:8080/"
    },
    "execution": {
     "iopub.execute_input": "2023-04-06T16:05:11.437116Z",
     "iopub.status.busy": "2023-04-06T16:05:11.435604Z",
     "iopub.status.idle": "2023-04-06T16:10:25.363153Z",
     "shell.execute_reply": "2023-04-06T16:10:25.361962Z",
     "shell.execute_reply.started": "2023-04-06T16:05:11.437076Z"
    },
    "id": "b9rgcznVJz6Q",
    "outputId": "f78ee4e7-7907-4a02-cb3a-8f6acd8ceab8"
   },
   "outputs": [
    {
     "name": "stderr",
     "output_type": "stream",
     "text": [
      "\u001b[32m[I 2023-04-06 16:05:11,447]\u001b[0m A new study created in memory with name: no-name-403b95b1-1ba7-4098-ae93-c246b7eb8bc9\u001b[0m\n",
      "/opt/conda/lib/python3.7/site-packages/ipykernel_launcher.py:4: FutureWarning: suggest_loguniform has been deprecated in v3.0.0. This feature will be removed in v6.0.0. See https://github.com/optuna/optuna/releases/tag/v3.0.0. Use :func:`~optuna.trial.Trial.suggest_float` instead.\n",
      "  after removing the cwd from sys.path.\n",
      "2023-04-06 16:05:18.919286: E tensorflow/core/grappler/optimizers/meta_optimizer.cc:954] layout failed: INVALID_ARGUMENT: Size of values 0 does not match size of permutation 4 @ fanin shape insequential/dropout/dropout/SelectV2-2-TransposeNHWCToNCHW-LayoutOptimizer\n",
      "\u001b[32m[I 2023-04-06 16:06:40,981]\u001b[0m Trial 0 finished with value: 0.6845637559890747 and parameters: {'learning_rate': 0.0001329291894316216, 'num_layers': 5, 'activation': 'relu', 'filters': 47, 'kernel_size': 3, 'dropout_rate': 0.4464704583099741, 'units': 641}. Best is trial 0 with value: 0.6845637559890747.\u001b[0m\n",
      "2023-04-06 16:06:44.092110: E tensorflow/core/grappler/optimizers/meta_optimizer.cc:954] layout failed: INVALID_ARGUMENT: Size of values 0 does not match size of permutation 4 @ fanin shape insequential_1/dropout_3/dropout/SelectV2-2-TransposeNHWCToNCHW-LayoutOptimizer\n",
      "\u001b[32m[I 2023-04-06 16:07:35,483]\u001b[0m Trial 1 finished with value: 0.6510066986083984 and parameters: {'learning_rate': 0.001331121608073689, 'num_layers': 1, 'activation': 'relu', 'filters': 49, 'kernel_size': 3, 'dropout_rate': 0.2216968971838151, 'units': 568}. Best is trial 0 with value: 0.6845637559890747.\u001b[0m\n",
      "2023-04-06 16:07:38.502122: E tensorflow/core/grappler/optimizers/meta_optimizer.cc:954] layout failed: INVALID_ARGUMENT: Size of values 0 does not match size of permutation 4 @ fanin shape insequential_2/dropout_6/dropout/SelectV2-2-TransposeNHWCToNCHW-LayoutOptimizer\n",
      "\u001b[32m[I 2023-04-06 16:09:00,505]\u001b[0m Trial 2 finished with value: 0.6275168061256409 and parameters: {'learning_rate': 0.00019762189340280086, 'num_layers': 2, 'activation': 'relu', 'filters': 67, 'kernel_size': 4, 'dropout_rate': 0.41407038455720546, 'units': 255}. Best is trial 0 with value: 0.6845637559890747.\u001b[0m\n",
      "2023-04-06 16:09:03.348564: E tensorflow/core/grappler/optimizers/meta_optimizer.cc:954] layout failed: INVALID_ARGUMENT: Size of values 0 does not match size of permutation 4 @ fanin shape insequential_3/dropout_9/dropout/SelectV2-2-TransposeNHWCToNCHW-LayoutOptimizer\n",
      "\u001b[32m[I 2023-04-06 16:10:25,358]\u001b[0m Trial 3 finished with value: 0.47651007771492004 and parameters: {'learning_rate': 0.0003489018845491386, 'num_layers': 3, 'activation': 'tanh', 'filters': 38, 'kernel_size': 5, 'dropout_rate': 0.4862528132298237, 'units': 840}. Best is trial 0 with value: 0.6845637559890747.\u001b[0m\n"
     ]
    }
   ],
   "source": [
    "\n",
    "# Run Optuna optimization\n",
    "sampler = optuna.samplers.TPESampler(seed=42)\n",
    "study = optuna.create_study(direction=\"maximize\",sampler=sampler)\n",
    "study.optimize(objective, n_trials=4)\n"
   ]
  },
  {
   "cell_type": "code",
   "execution_count": 9,
   "metadata": {
    "execution": {
     "iopub.execute_input": "2023-04-06T16:13:34.622637Z",
     "iopub.status.busy": "2023-04-06T16:13:34.621955Z",
     "iopub.status.idle": "2023-04-06T16:13:34.629243Z",
     "shell.execute_reply": "2023-04-06T16:13:34.627926Z",
     "shell.execute_reply.started": "2023-04-06T16:13:34.622597Z"
    },
    "id": "7Cnr4NuxJ0lW"
   },
   "outputs": [
    {
     "name": "stdout",
     "output_type": "stream",
     "text": [
      "Best hyperparameters: {'learning_rate': 0.0001329291894316216, 'num_layers': 5, 'activation': 'relu', 'filters': 47, 'kernel_size': 3, 'dropout_rate': 0.4464704583099741, 'units': 641}\n",
      "Best accuracy: 0.6845637559890747\n"
     ]
    }
   ],
   "source": [
    "\n",
    "# Print best hyperparameters and accuracy\n",
    "best_trial = study.best_trial\n",
    "print(f\"Best hyperparameters: {best_trial.params}\")\n",
    "print(f\"Best accuracy: {best_trial.value}\")\n"
   ]
  },
  {
   "cell_type": "code",
   "execution_count": 13,
   "metadata": {
    "execution": {
     "iopub.execute_input": "2023-04-06T16:18:14.490046Z",
     "iopub.status.busy": "2023-04-06T16:18:14.489537Z",
     "iopub.status.idle": "2023-04-06T16:18:15.331260Z",
     "shell.execute_reply": "2023-04-06T16:18:15.330142Z",
     "shell.execute_reply.started": "2023-04-06T16:18:14.489997Z"
    },
    "id": "dP1xnoUCOS7I"
   },
   "outputs": [
    {
     "data": {
      "text/html": [
       "<div>                            <div id=\"3262924a-66cf-4f63-8ac1-bc67a874085a\" class=\"plotly-graph-div\" style=\"height:525px; width:100%;\"></div>            <script type=\"text/javascript\">                require([\"plotly\"], function(Plotly) {                    window.PLOTLYENV=window.PLOTLYENV || {};                                    if (document.getElementById(\"3262924a-66cf-4f63-8ac1-bc67a874085a\")) {                    Plotly.newPlot(                        \"3262924a-66cf-4f63-8ac1-bc67a874085a\",                        [{\"type\":\"scatter\",\"xaxis\":\"x\",\"yaxis\":\"y\"},{\"colorbar\":{\"title\":{\"text\":\"Objective Value\"}},\"colorscale\":[[0.0,\"rgb(247,251,255)\"],[0.125,\"rgb(222,235,247)\"],[0.25,\"rgb(198,219,239)\"],[0.375,\"rgb(158,202,225)\"],[0.5,\"rgb(107,174,214)\"],[0.625,\"rgb(66,146,198)\"],[0.75,\"rgb(33,113,181)\"],[0.875,\"rgb(8,81,156)\"],[1.0,\"rgb(8,48,107)\"]],\"connectgaps\":true,\"contours\":{\"coloring\":\"heatmap\"},\"hoverinfo\":\"none\",\"line\":{\"smoothing\":1.3},\"reversescale\":false,\"showscale\":true,\"x\":[\"relu\",\"tanh\"],\"y\":[0.20846910138151467,0.2216968971838151,0.41407038455720546,0.4464704583099741,0.4862528132298237,0.49948060903212416],\"z\":[[null,null],[0.6510066986083984,null],[0.6275168061256409,null],[0.6845637559890747,null],[null,0.47651007771492004],[null,null]],\"type\":\"contour\",\"xaxis\":\"x7\",\"yaxis\":\"y7\"},{\"marker\":{\"color\":\"black\",\"line\":{\"color\":\"Grey\",\"width\":2.0}},\"mode\":\"markers\",\"showlegend\":false,\"x\":[\"relu\",\"relu\",\"relu\",\"tanh\"],\"y\":[0.4464704583099741,0.2216968971838151,0.41407038455720546,0.4862528132298237],\"type\":\"scatter\",\"xaxis\":\"x7\",\"yaxis\":\"y7\"},{\"colorbar\":{\"title\":{\"text\":\"Objective Value\"}},\"colorscale\":[[0.0,\"rgb(247,251,255)\"],[0.125,\"rgb(222,235,247)\"],[0.25,\"rgb(198,219,239)\"],[0.375,\"rgb(158,202,225)\"],[0.5,\"rgb(107,174,214)\"],[0.625,\"rgb(66,146,198)\"],[0.75,\"rgb(33,113,181)\"],[0.875,\"rgb(8,81,156)\"],[1.0,\"rgb(8,48,107)\"]],\"connectgaps\":true,\"contours\":{\"coloring\":\"heatmap\"},\"hoverinfo\":\"none\",\"line\":{\"smoothing\":1.3},\"reversescale\":false,\"showscale\":false,\"x\":[\"relu\",\"tanh\"],\"y\":[36.55,38,47,49,67,68.45],\"z\":[[null,null],[null,0.47651007771492004],[0.6845637559890747,null],[0.6510066986083984,null],[0.6275168061256409,null],[null,null]],\"type\":\"contour\",\"xaxis\":\"x13\",\"yaxis\":\"y13\"},{\"marker\":{\"color\":\"black\",\"line\":{\"color\":\"Grey\",\"width\":2.0}},\"mode\":\"markers\",\"showlegend\":false,\"x\":[\"relu\",\"relu\",\"relu\",\"tanh\"],\"y\":[47,49,67,38],\"type\":\"scatter\",\"xaxis\":\"x13\",\"yaxis\":\"y13\"},{\"colorbar\":{\"title\":{\"text\":\"Objective Value\"}},\"colorscale\":[[0.0,\"rgb(247,251,255)\"],[0.125,\"rgb(222,235,247)\"],[0.25,\"rgb(198,219,239)\"],[0.375,\"rgb(158,202,225)\"],[0.5,\"rgb(107,174,214)\"],[0.625,\"rgb(66,146,198)\"],[0.75,\"rgb(33,113,181)\"],[0.875,\"rgb(8,81,156)\"],[1.0,\"rgb(8,48,107)\"]],\"connectgaps\":true,\"contours\":{\"coloring\":\"heatmap\"},\"hoverinfo\":\"none\",\"line\":{\"smoothing\":1.3},\"reversescale\":false,\"showscale\":false,\"x\":[\"relu\",\"tanh\"],\"y\":[2.9,3,4,5,5.1],\"z\":[[null,null],[0.6510066986083984,null],[0.6275168061256409,null],[null,0.47651007771492004],[null,null]],\"type\":\"contour\",\"xaxis\":\"x19\",\"yaxis\":\"y19\"},{\"marker\":{\"color\":\"black\",\"line\":{\"color\":\"Grey\",\"width\":2.0}},\"mode\":\"markers\",\"showlegend\":false,\"x\":[\"relu\",\"relu\",\"relu\",\"tanh\"],\"y\":[3,3,4,5],\"type\":\"scatter\",\"xaxis\":\"x19\",\"yaxis\":\"y19\"},{\"colorbar\":{\"title\":{\"text\":\"Objective Value\"}},\"colorscale\":[[0.0,\"rgb(247,251,255)\"],[0.125,\"rgb(222,235,247)\"],[0.25,\"rgb(198,219,239)\"],[0.375,\"rgb(158,202,225)\"],[0.5,\"rgb(107,174,214)\"],[0.625,\"rgb(66,146,198)\"],[0.75,\"rgb(33,113,181)\"],[0.875,\"rgb(8,81,156)\"],[1.0,\"rgb(8,48,107)\"]],\"connectgaps\":true,\"contours\":{\"coloring\":\"heatmap\"},\"hoverinfo\":\"none\",\"line\":{\"smoothing\":1.3},\"reversescale\":false,\"showscale\":false,\"x\":[\"relu\",\"tanh\"],\"y\":[0.00011846511700241039,0.0001329291894316216,0.00019762189340280086,0.0003489018845491386,0.001331121608073689,0.0014936457319545957],\"z\":[[null,null],[0.6845637559890747,null],[0.6275168061256409,null],[null,0.47651007771492004],[0.6510066986083984,null],[null,null]],\"type\":\"contour\",\"xaxis\":\"x25\",\"yaxis\":\"y25\"},{\"marker\":{\"color\":\"black\",\"line\":{\"color\":\"Grey\",\"width\":2.0}},\"mode\":\"markers\",\"showlegend\":false,\"x\":[\"relu\",\"relu\",\"relu\",\"tanh\"],\"y\":[0.0001329291894316216,0.001331121608073689,0.00019762189340280086,0.0003489018845491386],\"type\":\"scatter\",\"xaxis\":\"x25\",\"yaxis\":\"y25\"},{\"colorbar\":{\"title\":{\"text\":\"Objective Value\"}},\"colorscale\":[[0.0,\"rgb(247,251,255)\"],[0.125,\"rgb(222,235,247)\"],[0.25,\"rgb(198,219,239)\"],[0.375,\"rgb(158,202,225)\"],[0.5,\"rgb(107,174,214)\"],[0.625,\"rgb(66,146,198)\"],[0.75,\"rgb(33,113,181)\"],[0.875,\"rgb(8,81,156)\"],[1.0,\"rgb(8,48,107)\"]],\"connectgaps\":true,\"contours\":{\"coloring\":\"heatmap\"},\"hoverinfo\":\"none\",\"line\":{\"smoothing\":1.3},\"reversescale\":false,\"showscale\":false,\"x\":[\"relu\",\"tanh\"],\"y\":[0.8,1,2,3,5,5.2],\"z\":[[null,null],[0.6510066986083984,null],[0.6275168061256409,null],[null,0.47651007771492004],[0.6845637559890747,null],[null,null]],\"type\":\"contour\",\"xaxis\":\"x31\",\"yaxis\":\"y31\"},{\"marker\":{\"color\":\"black\",\"line\":{\"color\":\"Grey\",\"width\":2.0}},\"mode\":\"markers\",\"showlegend\":false,\"x\":[\"relu\",\"relu\",\"relu\",\"tanh\"],\"y\":[5,1,2,3],\"type\":\"scatter\",\"xaxis\":\"x31\",\"yaxis\":\"y31\"},{\"colorbar\":{\"title\":{\"text\":\"Objective Value\"}},\"colorscale\":[[0.0,\"rgb(247,251,255)\"],[0.125,\"rgb(222,235,247)\"],[0.25,\"rgb(198,219,239)\"],[0.375,\"rgb(158,202,225)\"],[0.5,\"rgb(107,174,214)\"],[0.625,\"rgb(66,146,198)\"],[0.75,\"rgb(33,113,181)\"],[0.875,\"rgb(8,81,156)\"],[1.0,\"rgb(8,48,107)\"]],\"connectgaps\":true,\"contours\":{\"coloring\":\"heatmap\"},\"hoverinfo\":\"none\",\"line\":{\"smoothing\":1.3},\"reversescale\":false,\"showscale\":false,\"x\":[0.20846910138151467,0.2216968971838151,0.41407038455720546,0.4464704583099741,0.4862528132298237,0.49948060903212416],\"y\":[\"relu\",\"tanh\"],\"z\":[[null,0.6510066986083984,0.6275168061256409,0.6845637559890747,null,null],[null,null,null,null,0.47651007771492004,null]],\"type\":\"contour\",\"xaxis\":\"x2\",\"yaxis\":\"y2\"},{\"marker\":{\"color\":\"black\",\"line\":{\"color\":\"Grey\",\"width\":2.0}},\"mode\":\"markers\",\"showlegend\":false,\"x\":[0.4464704583099741,0.2216968971838151,0.41407038455720546,0.4862528132298237],\"y\":[\"relu\",\"relu\",\"relu\",\"tanh\"],\"type\":\"scatter\",\"xaxis\":\"x2\",\"yaxis\":\"y2\"},{\"type\":\"scatter\",\"xaxis\":\"x8\",\"yaxis\":\"y8\"},{\"colorbar\":{\"title\":{\"text\":\"Objective Value\"}},\"colorscale\":[[0.0,\"rgb(247,251,255)\"],[0.125,\"rgb(222,235,247)\"],[0.25,\"rgb(198,219,239)\"],[0.375,\"rgb(158,202,225)\"],[0.5,\"rgb(107,174,214)\"],[0.625,\"rgb(66,146,198)\"],[0.75,\"rgb(33,113,181)\"],[0.875,\"rgb(8,81,156)\"],[1.0,\"rgb(8,48,107)\"]],\"connectgaps\":true,\"contours\":{\"coloring\":\"heatmap\"},\"hoverinfo\":\"none\",\"line\":{\"smoothing\":1.3},\"reversescale\":false,\"showscale\":false,\"x\":[0.20846910138151467,0.2216968971838151,0.41407038455720546,0.4464704583099741,0.4862528132298237,0.49948060903212416],\"y\":[36.55,38,47,49,67,68.45],\"z\":[[null,null,null,null,null,null],[null,null,null,null,0.47651007771492004,null],[null,null,null,0.6845637559890747,null,null],[null,0.6510066986083984,null,null,null,null],[null,null,0.6275168061256409,null,null,null],[null,null,null,null,null,null]],\"type\":\"contour\",\"xaxis\":\"x14\",\"yaxis\":\"y14\"},{\"marker\":{\"color\":\"black\",\"line\":{\"color\":\"Grey\",\"width\":2.0}},\"mode\":\"markers\",\"showlegend\":false,\"x\":[0.4464704583099741,0.2216968971838151,0.41407038455720546,0.4862528132298237],\"y\":[47,49,67,38],\"type\":\"scatter\",\"xaxis\":\"x14\",\"yaxis\":\"y14\"},{\"colorbar\":{\"title\":{\"text\":\"Objective Value\"}},\"colorscale\":[[0.0,\"rgb(247,251,255)\"],[0.125,\"rgb(222,235,247)\"],[0.25,\"rgb(198,219,239)\"],[0.375,\"rgb(158,202,225)\"],[0.5,\"rgb(107,174,214)\"],[0.625,\"rgb(66,146,198)\"],[0.75,\"rgb(33,113,181)\"],[0.875,\"rgb(8,81,156)\"],[1.0,\"rgb(8,48,107)\"]],\"connectgaps\":true,\"contours\":{\"coloring\":\"heatmap\"},\"hoverinfo\":\"none\",\"line\":{\"smoothing\":1.3},\"reversescale\":false,\"showscale\":false,\"x\":[0.20846910138151467,0.2216968971838151,0.41407038455720546,0.4464704583099741,0.4862528132298237,0.49948060903212416],\"y\":[2.9,3,4,5,5.1],\"z\":[[null,null,null,null,null,null],[null,0.6510066986083984,null,0.6845637559890747,null,null],[null,null,0.6275168061256409,null,null,null],[null,null,null,null,0.47651007771492004,null],[null,null,null,null,null,null]],\"type\":\"contour\",\"xaxis\":\"x20\",\"yaxis\":\"y20\"},{\"marker\":{\"color\":\"black\",\"line\":{\"color\":\"Grey\",\"width\":2.0}},\"mode\":\"markers\",\"showlegend\":false,\"x\":[0.4464704583099741,0.2216968971838151,0.41407038455720546,0.4862528132298237],\"y\":[3,3,4,5],\"type\":\"scatter\",\"xaxis\":\"x20\",\"yaxis\":\"y20\"},{\"colorbar\":{\"title\":{\"text\":\"Objective Value\"}},\"colorscale\":[[0.0,\"rgb(247,251,255)\"],[0.125,\"rgb(222,235,247)\"],[0.25,\"rgb(198,219,239)\"],[0.375,\"rgb(158,202,225)\"],[0.5,\"rgb(107,174,214)\"],[0.625,\"rgb(66,146,198)\"],[0.75,\"rgb(33,113,181)\"],[0.875,\"rgb(8,81,156)\"],[1.0,\"rgb(8,48,107)\"]],\"connectgaps\":true,\"contours\":{\"coloring\":\"heatmap\"},\"hoverinfo\":\"none\",\"line\":{\"smoothing\":1.3},\"reversescale\":false,\"showscale\":false,\"x\":[0.20846910138151467,0.2216968971838151,0.41407038455720546,0.4464704583099741,0.4862528132298237,0.49948060903212416],\"y\":[0.00011846511700241039,0.0001329291894316216,0.00019762189340280086,0.0003489018845491386,0.001331121608073689,0.0014936457319545957],\"z\":[[null,null,null,null,null,null],[null,null,null,0.6845637559890747,null,null],[null,null,0.6275168061256409,null,null,null],[null,null,null,null,0.47651007771492004,null],[null,0.6510066986083984,null,null,null,null],[null,null,null,null,null,null]],\"type\":\"contour\",\"xaxis\":\"x26\",\"yaxis\":\"y26\"},{\"marker\":{\"color\":\"black\",\"line\":{\"color\":\"Grey\",\"width\":2.0}},\"mode\":\"markers\",\"showlegend\":false,\"x\":[0.4464704583099741,0.2216968971838151,0.41407038455720546,0.4862528132298237],\"y\":[0.0001329291894316216,0.001331121608073689,0.00019762189340280086,0.0003489018845491386],\"type\":\"scatter\",\"xaxis\":\"x26\",\"yaxis\":\"y26\"},{\"colorbar\":{\"title\":{\"text\":\"Objective Value\"}},\"colorscale\":[[0.0,\"rgb(247,251,255)\"],[0.125,\"rgb(222,235,247)\"],[0.25,\"rgb(198,219,239)\"],[0.375,\"rgb(158,202,225)\"],[0.5,\"rgb(107,174,214)\"],[0.625,\"rgb(66,146,198)\"],[0.75,\"rgb(33,113,181)\"],[0.875,\"rgb(8,81,156)\"],[1.0,\"rgb(8,48,107)\"]],\"connectgaps\":true,\"contours\":{\"coloring\":\"heatmap\"},\"hoverinfo\":\"none\",\"line\":{\"smoothing\":1.3},\"reversescale\":false,\"showscale\":false,\"x\":[0.20846910138151467,0.2216968971838151,0.41407038455720546,0.4464704583099741,0.4862528132298237,0.49948060903212416],\"y\":[0.8,1,2,3,5,5.2],\"z\":[[null,null,null,null,null,null],[null,0.6510066986083984,null,null,null,null],[null,null,0.6275168061256409,null,null,null],[null,null,null,null,0.47651007771492004,null],[null,null,null,0.6845637559890747,null,null],[null,null,null,null,null,null]],\"type\":\"contour\",\"xaxis\":\"x32\",\"yaxis\":\"y32\"},{\"marker\":{\"color\":\"black\",\"line\":{\"color\":\"Grey\",\"width\":2.0}},\"mode\":\"markers\",\"showlegend\":false,\"x\":[0.4464704583099741,0.2216968971838151,0.41407038455720546,0.4862528132298237],\"y\":[5,1,2,3],\"type\":\"scatter\",\"xaxis\":\"x32\",\"yaxis\":\"y32\"},{\"colorbar\":{\"title\":{\"text\":\"Objective Value\"}},\"colorscale\":[[0.0,\"rgb(247,251,255)\"],[0.125,\"rgb(222,235,247)\"],[0.25,\"rgb(198,219,239)\"],[0.375,\"rgb(158,202,225)\"],[0.5,\"rgb(107,174,214)\"],[0.625,\"rgb(66,146,198)\"],[0.75,\"rgb(33,113,181)\"],[0.875,\"rgb(8,81,156)\"],[1.0,\"rgb(8,48,107)\"]],\"connectgaps\":true,\"contours\":{\"coloring\":\"heatmap\"},\"hoverinfo\":\"none\",\"line\":{\"smoothing\":1.3},\"reversescale\":false,\"showscale\":false,\"x\":[36.55,38,47,49,67,68.45],\"y\":[\"relu\",\"tanh\"],\"z\":[[null,null,0.6845637559890747,0.6510066986083984,0.6275168061256409,null],[null,0.47651007771492004,null,null,null,null]],\"type\":\"contour\",\"xaxis\":\"x3\",\"yaxis\":\"y3\"},{\"marker\":{\"color\":\"black\",\"line\":{\"color\":\"Grey\",\"width\":2.0}},\"mode\":\"markers\",\"showlegend\":false,\"x\":[47,49,67,38],\"y\":[\"relu\",\"relu\",\"relu\",\"tanh\"],\"type\":\"scatter\",\"xaxis\":\"x3\",\"yaxis\":\"y3\"},{\"colorbar\":{\"title\":{\"text\":\"Objective Value\"}},\"colorscale\":[[0.0,\"rgb(247,251,255)\"],[0.125,\"rgb(222,235,247)\"],[0.25,\"rgb(198,219,239)\"],[0.375,\"rgb(158,202,225)\"],[0.5,\"rgb(107,174,214)\"],[0.625,\"rgb(66,146,198)\"],[0.75,\"rgb(33,113,181)\"],[0.875,\"rgb(8,81,156)\"],[1.0,\"rgb(8,48,107)\"]],\"connectgaps\":true,\"contours\":{\"coloring\":\"heatmap\"},\"hoverinfo\":\"none\",\"line\":{\"smoothing\":1.3},\"reversescale\":false,\"showscale\":false,\"x\":[36.55,38,47,49,67,68.45],\"y\":[0.20846910138151467,0.2216968971838151,0.41407038455720546,0.4464704583099741,0.4862528132298237,0.49948060903212416],\"z\":[[null,null,null,null,null,null],[null,null,null,0.6510066986083984,null,null],[null,null,null,null,0.6275168061256409,null],[null,null,0.6845637559890747,null,null,null],[null,0.47651007771492004,null,null,null,null],[null,null,null,null,null,null]],\"type\":\"contour\",\"xaxis\":\"x9\",\"yaxis\":\"y9\"},{\"marker\":{\"color\":\"black\",\"line\":{\"color\":\"Grey\",\"width\":2.0}},\"mode\":\"markers\",\"showlegend\":false,\"x\":[47,49,67,38],\"y\":[0.4464704583099741,0.2216968971838151,0.41407038455720546,0.4862528132298237],\"type\":\"scatter\",\"xaxis\":\"x9\",\"yaxis\":\"y9\"},{\"type\":\"scatter\",\"xaxis\":\"x15\",\"yaxis\":\"y15\"},{\"colorbar\":{\"title\":{\"text\":\"Objective Value\"}},\"colorscale\":[[0.0,\"rgb(247,251,255)\"],[0.125,\"rgb(222,235,247)\"],[0.25,\"rgb(198,219,239)\"],[0.375,\"rgb(158,202,225)\"],[0.5,\"rgb(107,174,214)\"],[0.625,\"rgb(66,146,198)\"],[0.75,\"rgb(33,113,181)\"],[0.875,\"rgb(8,81,156)\"],[1.0,\"rgb(8,48,107)\"]],\"connectgaps\":true,\"contours\":{\"coloring\":\"heatmap\"},\"hoverinfo\":\"none\",\"line\":{\"smoothing\":1.3},\"reversescale\":false,\"showscale\":false,\"x\":[36.55,38,47,49,67,68.45],\"y\":[2.9,3,4,5,5.1],\"z\":[[null,null,null,null,null,null],[null,null,0.6845637559890747,0.6510066986083984,null,null],[null,null,null,null,0.6275168061256409,null],[null,0.47651007771492004,null,null,null,null],[null,null,null,null,null,null]],\"type\":\"contour\",\"xaxis\":\"x21\",\"yaxis\":\"y21\"},{\"marker\":{\"color\":\"black\",\"line\":{\"color\":\"Grey\",\"width\":2.0}},\"mode\":\"markers\",\"showlegend\":false,\"x\":[47,49,67,38],\"y\":[3,3,4,5],\"type\":\"scatter\",\"xaxis\":\"x21\",\"yaxis\":\"y21\"},{\"colorbar\":{\"title\":{\"text\":\"Objective Value\"}},\"colorscale\":[[0.0,\"rgb(247,251,255)\"],[0.125,\"rgb(222,235,247)\"],[0.25,\"rgb(198,219,239)\"],[0.375,\"rgb(158,202,225)\"],[0.5,\"rgb(107,174,214)\"],[0.625,\"rgb(66,146,198)\"],[0.75,\"rgb(33,113,181)\"],[0.875,\"rgb(8,81,156)\"],[1.0,\"rgb(8,48,107)\"]],\"connectgaps\":true,\"contours\":{\"coloring\":\"heatmap\"},\"hoverinfo\":\"none\",\"line\":{\"smoothing\":1.3},\"reversescale\":false,\"showscale\":false,\"x\":[36.55,38,47,49,67,68.45],\"y\":[0.00011846511700241039,0.0001329291894316216,0.00019762189340280086,0.0003489018845491386,0.001331121608073689,0.0014936457319545957],\"z\":[[null,null,null,null,null,null],[null,null,0.6845637559890747,null,null,null],[null,null,null,null,0.6275168061256409,null],[null,0.47651007771492004,null,null,null,null],[null,null,null,0.6510066986083984,null,null],[null,null,null,null,null,null]],\"type\":\"contour\",\"xaxis\":\"x27\",\"yaxis\":\"y27\"},{\"marker\":{\"color\":\"black\",\"line\":{\"color\":\"Grey\",\"width\":2.0}},\"mode\":\"markers\",\"showlegend\":false,\"x\":[47,49,67,38],\"y\":[0.0001329291894316216,0.001331121608073689,0.00019762189340280086,0.0003489018845491386],\"type\":\"scatter\",\"xaxis\":\"x27\",\"yaxis\":\"y27\"},{\"colorbar\":{\"title\":{\"text\":\"Objective Value\"}},\"colorscale\":[[0.0,\"rgb(247,251,255)\"],[0.125,\"rgb(222,235,247)\"],[0.25,\"rgb(198,219,239)\"],[0.375,\"rgb(158,202,225)\"],[0.5,\"rgb(107,174,214)\"],[0.625,\"rgb(66,146,198)\"],[0.75,\"rgb(33,113,181)\"],[0.875,\"rgb(8,81,156)\"],[1.0,\"rgb(8,48,107)\"]],\"connectgaps\":true,\"contours\":{\"coloring\":\"heatmap\"},\"hoverinfo\":\"none\",\"line\":{\"smoothing\":1.3},\"reversescale\":false,\"showscale\":false,\"x\":[36.55,38,47,49,67,68.45],\"y\":[0.8,1,2,3,5,5.2],\"z\":[[null,null,null,null,null,null],[null,null,null,0.6510066986083984,null,null],[null,null,null,null,0.6275168061256409,null],[null,0.47651007771492004,null,null,null,null],[null,null,0.6845637559890747,null,null,null],[null,null,null,null,null,null]],\"type\":\"contour\",\"xaxis\":\"x33\",\"yaxis\":\"y33\"},{\"marker\":{\"color\":\"black\",\"line\":{\"color\":\"Grey\",\"width\":2.0}},\"mode\":\"markers\",\"showlegend\":false,\"x\":[47,49,67,38],\"y\":[5,1,2,3],\"type\":\"scatter\",\"xaxis\":\"x33\",\"yaxis\":\"y33\"},{\"colorbar\":{\"title\":{\"text\":\"Objective Value\"}},\"colorscale\":[[0.0,\"rgb(247,251,255)\"],[0.125,\"rgb(222,235,247)\"],[0.25,\"rgb(198,219,239)\"],[0.375,\"rgb(158,202,225)\"],[0.5,\"rgb(107,174,214)\"],[0.625,\"rgb(66,146,198)\"],[0.75,\"rgb(33,113,181)\"],[0.875,\"rgb(8,81,156)\"],[1.0,\"rgb(8,48,107)\"]],\"connectgaps\":true,\"contours\":{\"coloring\":\"heatmap\"},\"hoverinfo\":\"none\",\"line\":{\"smoothing\":1.3},\"reversescale\":false,\"showscale\":false,\"x\":[2.9,3,4,5,5.1],\"y\":[\"relu\",\"tanh\"],\"z\":[[null,0.6510066986083984,0.6275168061256409,null,null],[null,null,null,0.47651007771492004,null]],\"type\":\"contour\",\"xaxis\":\"x4\",\"yaxis\":\"y4\"},{\"marker\":{\"color\":\"black\",\"line\":{\"color\":\"Grey\",\"width\":2.0}},\"mode\":\"markers\",\"showlegend\":false,\"x\":[3,3,4,5],\"y\":[\"relu\",\"relu\",\"relu\",\"tanh\"],\"type\":\"scatter\",\"xaxis\":\"x4\",\"yaxis\":\"y4\"},{\"colorbar\":{\"title\":{\"text\":\"Objective Value\"}},\"colorscale\":[[0.0,\"rgb(247,251,255)\"],[0.125,\"rgb(222,235,247)\"],[0.25,\"rgb(198,219,239)\"],[0.375,\"rgb(158,202,225)\"],[0.5,\"rgb(107,174,214)\"],[0.625,\"rgb(66,146,198)\"],[0.75,\"rgb(33,113,181)\"],[0.875,\"rgb(8,81,156)\"],[1.0,\"rgb(8,48,107)\"]],\"connectgaps\":true,\"contours\":{\"coloring\":\"heatmap\"},\"hoverinfo\":\"none\",\"line\":{\"smoothing\":1.3},\"reversescale\":false,\"showscale\":false,\"x\":[2.9,3,4,5,5.1],\"y\":[0.20846910138151467,0.2216968971838151,0.41407038455720546,0.4464704583099741,0.4862528132298237,0.49948060903212416],\"z\":[[null,null,null,null,null],[null,0.6510066986083984,null,null,null],[null,null,0.6275168061256409,null,null],[null,0.6845637559890747,null,null,null],[null,null,null,0.47651007771492004,null],[null,null,null,null,null]],\"type\":\"contour\",\"xaxis\":\"x10\",\"yaxis\":\"y10\"},{\"marker\":{\"color\":\"black\",\"line\":{\"color\":\"Grey\",\"width\":2.0}},\"mode\":\"markers\",\"showlegend\":false,\"x\":[3,3,4,5],\"y\":[0.4464704583099741,0.2216968971838151,0.41407038455720546,0.4862528132298237],\"type\":\"scatter\",\"xaxis\":\"x10\",\"yaxis\":\"y10\"},{\"colorbar\":{\"title\":{\"text\":\"Objective Value\"}},\"colorscale\":[[0.0,\"rgb(247,251,255)\"],[0.125,\"rgb(222,235,247)\"],[0.25,\"rgb(198,219,239)\"],[0.375,\"rgb(158,202,225)\"],[0.5,\"rgb(107,174,214)\"],[0.625,\"rgb(66,146,198)\"],[0.75,\"rgb(33,113,181)\"],[0.875,\"rgb(8,81,156)\"],[1.0,\"rgb(8,48,107)\"]],\"connectgaps\":true,\"contours\":{\"coloring\":\"heatmap\"},\"hoverinfo\":\"none\",\"line\":{\"smoothing\":1.3},\"reversescale\":false,\"showscale\":false,\"x\":[2.9,3,4,5,5.1],\"y\":[36.55,38,47,49,67,68.45],\"z\":[[null,null,null,null,null],[null,null,null,0.47651007771492004,null],[null,0.6845637559890747,null,null,null],[null,0.6510066986083984,null,null,null],[null,null,0.6275168061256409,null,null],[null,null,null,null,null]],\"type\":\"contour\",\"xaxis\":\"x16\",\"yaxis\":\"y16\"},{\"marker\":{\"color\":\"black\",\"line\":{\"color\":\"Grey\",\"width\":2.0}},\"mode\":\"markers\",\"showlegend\":false,\"x\":[3,3,4,5],\"y\":[47,49,67,38],\"type\":\"scatter\",\"xaxis\":\"x16\",\"yaxis\":\"y16\"},{\"type\":\"scatter\",\"xaxis\":\"x22\",\"yaxis\":\"y22\"},{\"colorbar\":{\"title\":{\"text\":\"Objective Value\"}},\"colorscale\":[[0.0,\"rgb(247,251,255)\"],[0.125,\"rgb(222,235,247)\"],[0.25,\"rgb(198,219,239)\"],[0.375,\"rgb(158,202,225)\"],[0.5,\"rgb(107,174,214)\"],[0.625,\"rgb(66,146,198)\"],[0.75,\"rgb(33,113,181)\"],[0.875,\"rgb(8,81,156)\"],[1.0,\"rgb(8,48,107)\"]],\"connectgaps\":true,\"contours\":{\"coloring\":\"heatmap\"},\"hoverinfo\":\"none\",\"line\":{\"smoothing\":1.3},\"reversescale\":false,\"showscale\":false,\"x\":[2.9,3,4,5,5.1],\"y\":[0.00011846511700241039,0.0001329291894316216,0.00019762189340280086,0.0003489018845491386,0.001331121608073689,0.0014936457319545957],\"z\":[[null,null,null,null,null],[null,0.6845637559890747,null,null,null],[null,null,0.6275168061256409,null,null],[null,null,null,0.47651007771492004,null],[null,0.6510066986083984,null,null,null],[null,null,null,null,null]],\"type\":\"contour\",\"xaxis\":\"x28\",\"yaxis\":\"y28\"},{\"marker\":{\"color\":\"black\",\"line\":{\"color\":\"Grey\",\"width\":2.0}},\"mode\":\"markers\",\"showlegend\":false,\"x\":[3,3,4,5],\"y\":[0.0001329291894316216,0.001331121608073689,0.00019762189340280086,0.0003489018845491386],\"type\":\"scatter\",\"xaxis\":\"x28\",\"yaxis\":\"y28\"},{\"colorbar\":{\"title\":{\"text\":\"Objective Value\"}},\"colorscale\":[[0.0,\"rgb(247,251,255)\"],[0.125,\"rgb(222,235,247)\"],[0.25,\"rgb(198,219,239)\"],[0.375,\"rgb(158,202,225)\"],[0.5,\"rgb(107,174,214)\"],[0.625,\"rgb(66,146,198)\"],[0.75,\"rgb(33,113,181)\"],[0.875,\"rgb(8,81,156)\"],[1.0,\"rgb(8,48,107)\"]],\"connectgaps\":true,\"contours\":{\"coloring\":\"heatmap\"},\"hoverinfo\":\"none\",\"line\":{\"smoothing\":1.3},\"reversescale\":false,\"showscale\":false,\"x\":[2.9,3,4,5,5.1],\"y\":[0.8,1,2,3,5,5.2],\"z\":[[null,null,null,null,null],[null,0.6510066986083984,null,null,null],[null,null,0.6275168061256409,null,null],[null,null,null,0.47651007771492004,null],[null,0.6845637559890747,null,null,null],[null,null,null,null,null]],\"type\":\"contour\",\"xaxis\":\"x34\",\"yaxis\":\"y34\"},{\"marker\":{\"color\":\"black\",\"line\":{\"color\":\"Grey\",\"width\":2.0}},\"mode\":\"markers\",\"showlegend\":false,\"x\":[3,3,4,5],\"y\":[5,1,2,3],\"type\":\"scatter\",\"xaxis\":\"x34\",\"yaxis\":\"y34\"},{\"colorbar\":{\"title\":{\"text\":\"Objective Value\"}},\"colorscale\":[[0.0,\"rgb(247,251,255)\"],[0.125,\"rgb(222,235,247)\"],[0.25,\"rgb(198,219,239)\"],[0.375,\"rgb(158,202,225)\"],[0.5,\"rgb(107,174,214)\"],[0.625,\"rgb(66,146,198)\"],[0.75,\"rgb(33,113,181)\"],[0.875,\"rgb(8,81,156)\"],[1.0,\"rgb(8,48,107)\"]],\"connectgaps\":true,\"contours\":{\"coloring\":\"heatmap\"},\"hoverinfo\":\"none\",\"line\":{\"smoothing\":1.3},\"reversescale\":false,\"showscale\":false,\"x\":[0.00011846511700241039,0.0001329291894316216,0.00019762189340280086,0.0003489018845491386,0.001331121608073689,0.0014936457319545957],\"y\":[\"relu\",\"tanh\"],\"z\":[[null,0.6845637559890747,0.6275168061256409,null,0.6510066986083984,null],[null,null,null,0.47651007771492004,null,null]],\"type\":\"contour\",\"xaxis\":\"x5\",\"yaxis\":\"y5\"},{\"marker\":{\"color\":\"black\",\"line\":{\"color\":\"Grey\",\"width\":2.0}},\"mode\":\"markers\",\"showlegend\":false,\"x\":[0.0001329291894316216,0.001331121608073689,0.00019762189340280086,0.0003489018845491386],\"y\":[\"relu\",\"relu\",\"relu\",\"tanh\"],\"type\":\"scatter\",\"xaxis\":\"x5\",\"yaxis\":\"y5\"},{\"colorbar\":{\"title\":{\"text\":\"Objective Value\"}},\"colorscale\":[[0.0,\"rgb(247,251,255)\"],[0.125,\"rgb(222,235,247)\"],[0.25,\"rgb(198,219,239)\"],[0.375,\"rgb(158,202,225)\"],[0.5,\"rgb(107,174,214)\"],[0.625,\"rgb(66,146,198)\"],[0.75,\"rgb(33,113,181)\"],[0.875,\"rgb(8,81,156)\"],[1.0,\"rgb(8,48,107)\"]],\"connectgaps\":true,\"contours\":{\"coloring\":\"heatmap\"},\"hoverinfo\":\"none\",\"line\":{\"smoothing\":1.3},\"reversescale\":false,\"showscale\":false,\"x\":[0.00011846511700241039,0.0001329291894316216,0.00019762189340280086,0.0003489018845491386,0.001331121608073689,0.0014936457319545957],\"y\":[0.20846910138151467,0.2216968971838151,0.41407038455720546,0.4464704583099741,0.4862528132298237,0.49948060903212416],\"z\":[[null,null,null,null,null,null],[null,null,null,null,0.6510066986083984,null],[null,null,0.6275168061256409,null,null,null],[null,0.6845637559890747,null,null,null,null],[null,null,null,0.47651007771492004,null,null],[null,null,null,null,null,null]],\"type\":\"contour\",\"xaxis\":\"x11\",\"yaxis\":\"y11\"},{\"marker\":{\"color\":\"black\",\"line\":{\"color\":\"Grey\",\"width\":2.0}},\"mode\":\"markers\",\"showlegend\":false,\"x\":[0.0001329291894316216,0.001331121608073689,0.00019762189340280086,0.0003489018845491386],\"y\":[0.4464704583099741,0.2216968971838151,0.41407038455720546,0.4862528132298237],\"type\":\"scatter\",\"xaxis\":\"x11\",\"yaxis\":\"y11\"},{\"colorbar\":{\"title\":{\"text\":\"Objective Value\"}},\"colorscale\":[[0.0,\"rgb(247,251,255)\"],[0.125,\"rgb(222,235,247)\"],[0.25,\"rgb(198,219,239)\"],[0.375,\"rgb(158,202,225)\"],[0.5,\"rgb(107,174,214)\"],[0.625,\"rgb(66,146,198)\"],[0.75,\"rgb(33,113,181)\"],[0.875,\"rgb(8,81,156)\"],[1.0,\"rgb(8,48,107)\"]],\"connectgaps\":true,\"contours\":{\"coloring\":\"heatmap\"},\"hoverinfo\":\"none\",\"line\":{\"smoothing\":1.3},\"reversescale\":false,\"showscale\":false,\"x\":[0.00011846511700241039,0.0001329291894316216,0.00019762189340280086,0.0003489018845491386,0.001331121608073689,0.0014936457319545957],\"y\":[36.55,38,47,49,67,68.45],\"z\":[[null,null,null,null,null,null],[null,null,null,0.47651007771492004,null,null],[null,0.6845637559890747,null,null,null,null],[null,null,null,null,0.6510066986083984,null],[null,null,0.6275168061256409,null,null,null],[null,null,null,null,null,null]],\"type\":\"contour\",\"xaxis\":\"x17\",\"yaxis\":\"y17\"},{\"marker\":{\"color\":\"black\",\"line\":{\"color\":\"Grey\",\"width\":2.0}},\"mode\":\"markers\",\"showlegend\":false,\"x\":[0.0001329291894316216,0.001331121608073689,0.00019762189340280086,0.0003489018845491386],\"y\":[47,49,67,38],\"type\":\"scatter\",\"xaxis\":\"x17\",\"yaxis\":\"y17\"},{\"colorbar\":{\"title\":{\"text\":\"Objective Value\"}},\"colorscale\":[[0.0,\"rgb(247,251,255)\"],[0.125,\"rgb(222,235,247)\"],[0.25,\"rgb(198,219,239)\"],[0.375,\"rgb(158,202,225)\"],[0.5,\"rgb(107,174,214)\"],[0.625,\"rgb(66,146,198)\"],[0.75,\"rgb(33,113,181)\"],[0.875,\"rgb(8,81,156)\"],[1.0,\"rgb(8,48,107)\"]],\"connectgaps\":true,\"contours\":{\"coloring\":\"heatmap\"},\"hoverinfo\":\"none\",\"line\":{\"smoothing\":1.3},\"reversescale\":false,\"showscale\":false,\"x\":[0.00011846511700241039,0.0001329291894316216,0.00019762189340280086,0.0003489018845491386,0.001331121608073689,0.0014936457319545957],\"y\":[2.9,3,4,5,5.1],\"z\":[[null,null,null,null,null,null],[null,0.6845637559890747,null,null,0.6510066986083984,null],[null,null,0.6275168061256409,null,null,null],[null,null,null,0.47651007771492004,null,null],[null,null,null,null,null,null]],\"type\":\"contour\",\"xaxis\":\"x23\",\"yaxis\":\"y23\"},{\"marker\":{\"color\":\"black\",\"line\":{\"color\":\"Grey\",\"width\":2.0}},\"mode\":\"markers\",\"showlegend\":false,\"x\":[0.0001329291894316216,0.001331121608073689,0.00019762189340280086,0.0003489018845491386],\"y\":[3,3,4,5],\"type\":\"scatter\",\"xaxis\":\"x23\",\"yaxis\":\"y23\"},{\"type\":\"scatter\",\"xaxis\":\"x29\",\"yaxis\":\"y29\"},{\"colorbar\":{\"title\":{\"text\":\"Objective Value\"}},\"colorscale\":[[0.0,\"rgb(247,251,255)\"],[0.125,\"rgb(222,235,247)\"],[0.25,\"rgb(198,219,239)\"],[0.375,\"rgb(158,202,225)\"],[0.5,\"rgb(107,174,214)\"],[0.625,\"rgb(66,146,198)\"],[0.75,\"rgb(33,113,181)\"],[0.875,\"rgb(8,81,156)\"],[1.0,\"rgb(8,48,107)\"]],\"connectgaps\":true,\"contours\":{\"coloring\":\"heatmap\"},\"hoverinfo\":\"none\",\"line\":{\"smoothing\":1.3},\"reversescale\":false,\"showscale\":false,\"x\":[0.00011846511700241039,0.0001329291894316216,0.00019762189340280086,0.0003489018845491386,0.001331121608073689,0.0014936457319545957],\"y\":[0.8,1,2,3,5,5.2],\"z\":[[null,null,null,null,null,null],[null,null,null,null,0.6510066986083984,null],[null,null,0.6275168061256409,null,null,null],[null,null,null,0.47651007771492004,null,null],[null,0.6845637559890747,null,null,null,null],[null,null,null,null,null,null]],\"type\":\"contour\",\"xaxis\":\"x35\",\"yaxis\":\"y35\"},{\"marker\":{\"color\":\"black\",\"line\":{\"color\":\"Grey\",\"width\":2.0}},\"mode\":\"markers\",\"showlegend\":false,\"x\":[0.0001329291894316216,0.001331121608073689,0.00019762189340280086,0.0003489018845491386],\"y\":[5,1,2,3],\"type\":\"scatter\",\"xaxis\":\"x35\",\"yaxis\":\"y35\"},{\"colorbar\":{\"title\":{\"text\":\"Objective Value\"}},\"colorscale\":[[0.0,\"rgb(247,251,255)\"],[0.125,\"rgb(222,235,247)\"],[0.25,\"rgb(198,219,239)\"],[0.375,\"rgb(158,202,225)\"],[0.5,\"rgb(107,174,214)\"],[0.625,\"rgb(66,146,198)\"],[0.75,\"rgb(33,113,181)\"],[0.875,\"rgb(8,81,156)\"],[1.0,\"rgb(8,48,107)\"]],\"connectgaps\":true,\"contours\":{\"coloring\":\"heatmap\"},\"hoverinfo\":\"none\",\"line\":{\"smoothing\":1.3},\"reversescale\":false,\"showscale\":false,\"x\":[0.8,1,2,3,5,5.2],\"y\":[\"relu\",\"tanh\"],\"z\":[[null,0.6510066986083984,0.6275168061256409,null,0.6845637559890747,null],[null,null,null,0.47651007771492004,null,null]],\"type\":\"contour\",\"xaxis\":\"x6\",\"yaxis\":\"y6\"},{\"marker\":{\"color\":\"black\",\"line\":{\"color\":\"Grey\",\"width\":2.0}},\"mode\":\"markers\",\"showlegend\":false,\"x\":[5,1,2,3],\"y\":[\"relu\",\"relu\",\"relu\",\"tanh\"],\"type\":\"scatter\",\"xaxis\":\"x6\",\"yaxis\":\"y6\"},{\"colorbar\":{\"title\":{\"text\":\"Objective Value\"}},\"colorscale\":[[0.0,\"rgb(247,251,255)\"],[0.125,\"rgb(222,235,247)\"],[0.25,\"rgb(198,219,239)\"],[0.375,\"rgb(158,202,225)\"],[0.5,\"rgb(107,174,214)\"],[0.625,\"rgb(66,146,198)\"],[0.75,\"rgb(33,113,181)\"],[0.875,\"rgb(8,81,156)\"],[1.0,\"rgb(8,48,107)\"]],\"connectgaps\":true,\"contours\":{\"coloring\":\"heatmap\"},\"hoverinfo\":\"none\",\"line\":{\"smoothing\":1.3},\"reversescale\":false,\"showscale\":false,\"x\":[0.8,1,2,3,5,5.2],\"y\":[0.20846910138151467,0.2216968971838151,0.41407038455720546,0.4464704583099741,0.4862528132298237,0.49948060903212416],\"z\":[[null,null,null,null,null,null],[null,0.6510066986083984,null,null,null,null],[null,null,0.6275168061256409,null,null,null],[null,null,null,null,0.6845637559890747,null],[null,null,null,0.47651007771492004,null,null],[null,null,null,null,null,null]],\"type\":\"contour\",\"xaxis\":\"x12\",\"yaxis\":\"y12\"},{\"marker\":{\"color\":\"black\",\"line\":{\"color\":\"Grey\",\"width\":2.0}},\"mode\":\"markers\",\"showlegend\":false,\"x\":[5,1,2,3],\"y\":[0.4464704583099741,0.2216968971838151,0.41407038455720546,0.4862528132298237],\"type\":\"scatter\",\"xaxis\":\"x12\",\"yaxis\":\"y12\"},{\"colorbar\":{\"title\":{\"text\":\"Objective Value\"}},\"colorscale\":[[0.0,\"rgb(247,251,255)\"],[0.125,\"rgb(222,235,247)\"],[0.25,\"rgb(198,219,239)\"],[0.375,\"rgb(158,202,225)\"],[0.5,\"rgb(107,174,214)\"],[0.625,\"rgb(66,146,198)\"],[0.75,\"rgb(33,113,181)\"],[0.875,\"rgb(8,81,156)\"],[1.0,\"rgb(8,48,107)\"]],\"connectgaps\":true,\"contours\":{\"coloring\":\"heatmap\"},\"hoverinfo\":\"none\",\"line\":{\"smoothing\":1.3},\"reversescale\":false,\"showscale\":false,\"x\":[0.8,1,2,3,5,5.2],\"y\":[36.55,38,47,49,67,68.45],\"z\":[[null,null,null,null,null,null],[null,null,null,0.47651007771492004,null,null],[null,null,null,null,0.6845637559890747,null],[null,0.6510066986083984,null,null,null,null],[null,null,0.6275168061256409,null,null,null],[null,null,null,null,null,null]],\"type\":\"contour\",\"xaxis\":\"x18\",\"yaxis\":\"y18\"},{\"marker\":{\"color\":\"black\",\"line\":{\"color\":\"Grey\",\"width\":2.0}},\"mode\":\"markers\",\"showlegend\":false,\"x\":[5,1,2,3],\"y\":[47,49,67,38],\"type\":\"scatter\",\"xaxis\":\"x18\",\"yaxis\":\"y18\"},{\"colorbar\":{\"title\":{\"text\":\"Objective Value\"}},\"colorscale\":[[0.0,\"rgb(247,251,255)\"],[0.125,\"rgb(222,235,247)\"],[0.25,\"rgb(198,219,239)\"],[0.375,\"rgb(158,202,225)\"],[0.5,\"rgb(107,174,214)\"],[0.625,\"rgb(66,146,198)\"],[0.75,\"rgb(33,113,181)\"],[0.875,\"rgb(8,81,156)\"],[1.0,\"rgb(8,48,107)\"]],\"connectgaps\":true,\"contours\":{\"coloring\":\"heatmap\"},\"hoverinfo\":\"none\",\"line\":{\"smoothing\":1.3},\"reversescale\":false,\"showscale\":false,\"x\":[0.8,1,2,3,5,5.2],\"y\":[2.9,3,4,5,5.1],\"z\":[[null,null,null,null,null,null],[null,0.6510066986083984,null,null,0.6845637559890747,null],[null,null,0.6275168061256409,null,null,null],[null,null,null,0.47651007771492004,null,null],[null,null,null,null,null,null]],\"type\":\"contour\",\"xaxis\":\"x24\",\"yaxis\":\"y24\"},{\"marker\":{\"color\":\"black\",\"line\":{\"color\":\"Grey\",\"width\":2.0}},\"mode\":\"markers\",\"showlegend\":false,\"x\":[5,1,2,3],\"y\":[3,3,4,5],\"type\":\"scatter\",\"xaxis\":\"x24\",\"yaxis\":\"y24\"},{\"colorbar\":{\"title\":{\"text\":\"Objective Value\"}},\"colorscale\":[[0.0,\"rgb(247,251,255)\"],[0.125,\"rgb(222,235,247)\"],[0.25,\"rgb(198,219,239)\"],[0.375,\"rgb(158,202,225)\"],[0.5,\"rgb(107,174,214)\"],[0.625,\"rgb(66,146,198)\"],[0.75,\"rgb(33,113,181)\"],[0.875,\"rgb(8,81,156)\"],[1.0,\"rgb(8,48,107)\"]],\"connectgaps\":true,\"contours\":{\"coloring\":\"heatmap\"},\"hoverinfo\":\"none\",\"line\":{\"smoothing\":1.3},\"reversescale\":false,\"showscale\":false,\"x\":[0.8,1,2,3,5,5.2],\"y\":[0.00011846511700241039,0.0001329291894316216,0.00019762189340280086,0.0003489018845491386,0.001331121608073689,0.0014936457319545957],\"z\":[[null,null,null,null,null,null],[null,null,null,null,0.6845637559890747,null],[null,null,0.6275168061256409,null,null,null],[null,null,null,0.47651007771492004,null,null],[null,0.6510066986083984,null,null,null,null],[null,null,null,null,null,null]],\"type\":\"contour\",\"xaxis\":\"x30\",\"yaxis\":\"y30\"},{\"marker\":{\"color\":\"black\",\"line\":{\"color\":\"Grey\",\"width\":2.0}},\"mode\":\"markers\",\"showlegend\":false,\"x\":[5,1,2,3],\"y\":[0.0001329291894316216,0.001331121608073689,0.00019762189340280086,0.0003489018845491386],\"type\":\"scatter\",\"xaxis\":\"x30\",\"yaxis\":\"y30\"},{\"type\":\"scatter\",\"xaxis\":\"x36\",\"yaxis\":\"y36\"}],                        {\"template\":{\"data\":{\"histogram2dcontour\":[{\"type\":\"histogram2dcontour\",\"colorbar\":{\"outlinewidth\":0,\"ticks\":\"\"},\"colorscale\":[[0.0,\"#0d0887\"],[0.1111111111111111,\"#46039f\"],[0.2222222222222222,\"#7201a8\"],[0.3333333333333333,\"#9c179e\"],[0.4444444444444444,\"#bd3786\"],[0.5555555555555556,\"#d8576b\"],[0.6666666666666666,\"#ed7953\"],[0.7777777777777778,\"#fb9f3a\"],[0.8888888888888888,\"#fdca26\"],[1.0,\"#f0f921\"]]}],\"choropleth\":[{\"type\":\"choropleth\",\"colorbar\":{\"outlinewidth\":0,\"ticks\":\"\"}}],\"histogram2d\":[{\"type\":\"histogram2d\",\"colorbar\":{\"outlinewidth\":0,\"ticks\":\"\"},\"colorscale\":[[0.0,\"#0d0887\"],[0.1111111111111111,\"#46039f\"],[0.2222222222222222,\"#7201a8\"],[0.3333333333333333,\"#9c179e\"],[0.4444444444444444,\"#bd3786\"],[0.5555555555555556,\"#d8576b\"],[0.6666666666666666,\"#ed7953\"],[0.7777777777777778,\"#fb9f3a\"],[0.8888888888888888,\"#fdca26\"],[1.0,\"#f0f921\"]]}],\"heatmap\":[{\"type\":\"heatmap\",\"colorbar\":{\"outlinewidth\":0,\"ticks\":\"\"},\"colorscale\":[[0.0,\"#0d0887\"],[0.1111111111111111,\"#46039f\"],[0.2222222222222222,\"#7201a8\"],[0.3333333333333333,\"#9c179e\"],[0.4444444444444444,\"#bd3786\"],[0.5555555555555556,\"#d8576b\"],[0.6666666666666666,\"#ed7953\"],[0.7777777777777778,\"#fb9f3a\"],[0.8888888888888888,\"#fdca26\"],[1.0,\"#f0f921\"]]}],\"heatmapgl\":[{\"type\":\"heatmapgl\",\"colorbar\":{\"outlinewidth\":0,\"ticks\":\"\"},\"colorscale\":[[0.0,\"#0d0887\"],[0.1111111111111111,\"#46039f\"],[0.2222222222222222,\"#7201a8\"],[0.3333333333333333,\"#9c179e\"],[0.4444444444444444,\"#bd3786\"],[0.5555555555555556,\"#d8576b\"],[0.6666666666666666,\"#ed7953\"],[0.7777777777777778,\"#fb9f3a\"],[0.8888888888888888,\"#fdca26\"],[1.0,\"#f0f921\"]]}],\"contourcarpet\":[{\"type\":\"contourcarpet\",\"colorbar\":{\"outlinewidth\":0,\"ticks\":\"\"}}],\"contour\":[{\"type\":\"contour\",\"colorbar\":{\"outlinewidth\":0,\"ticks\":\"\"},\"colorscale\":[[0.0,\"#0d0887\"],[0.1111111111111111,\"#46039f\"],[0.2222222222222222,\"#7201a8\"],[0.3333333333333333,\"#9c179e\"],[0.4444444444444444,\"#bd3786\"],[0.5555555555555556,\"#d8576b\"],[0.6666666666666666,\"#ed7953\"],[0.7777777777777778,\"#fb9f3a\"],[0.8888888888888888,\"#fdca26\"],[1.0,\"#f0f921\"]]}],\"surface\":[{\"type\":\"surface\",\"colorbar\":{\"outlinewidth\":0,\"ticks\":\"\"},\"colorscale\":[[0.0,\"#0d0887\"],[0.1111111111111111,\"#46039f\"],[0.2222222222222222,\"#7201a8\"],[0.3333333333333333,\"#9c179e\"],[0.4444444444444444,\"#bd3786\"],[0.5555555555555556,\"#d8576b\"],[0.6666666666666666,\"#ed7953\"],[0.7777777777777778,\"#fb9f3a\"],[0.8888888888888888,\"#fdca26\"],[1.0,\"#f0f921\"]]}],\"mesh3d\":[{\"type\":\"mesh3d\",\"colorbar\":{\"outlinewidth\":0,\"ticks\":\"\"}}],\"scatter\":[{\"fillpattern\":{\"fillmode\":\"overlay\",\"size\":10,\"solidity\":0.2},\"type\":\"scatter\"}],\"parcoords\":[{\"type\":\"parcoords\",\"line\":{\"colorbar\":{\"outlinewidth\":0,\"ticks\":\"\"}}}],\"scatterpolargl\":[{\"type\":\"scatterpolargl\",\"marker\":{\"colorbar\":{\"outlinewidth\":0,\"ticks\":\"\"}}}],\"bar\":[{\"error_x\":{\"color\":\"#2a3f5f\"},\"error_y\":{\"color\":\"#2a3f5f\"},\"marker\":{\"line\":{\"color\":\"#E5ECF6\",\"width\":0.5},\"pattern\":{\"fillmode\":\"overlay\",\"size\":10,\"solidity\":0.2}},\"type\":\"bar\"}],\"scattergeo\":[{\"type\":\"scattergeo\",\"marker\":{\"colorbar\":{\"outlinewidth\":0,\"ticks\":\"\"}}}],\"scatterpolar\":[{\"type\":\"scatterpolar\",\"marker\":{\"colorbar\":{\"outlinewidth\":0,\"ticks\":\"\"}}}],\"histogram\":[{\"marker\":{\"pattern\":{\"fillmode\":\"overlay\",\"size\":10,\"solidity\":0.2}},\"type\":\"histogram\"}],\"scattergl\":[{\"type\":\"scattergl\",\"marker\":{\"colorbar\":{\"outlinewidth\":0,\"ticks\":\"\"}}}],\"scatter3d\":[{\"type\":\"scatter3d\",\"line\":{\"colorbar\":{\"outlinewidth\":0,\"ticks\":\"\"}},\"marker\":{\"colorbar\":{\"outlinewidth\":0,\"ticks\":\"\"}}}],\"scattermapbox\":[{\"type\":\"scattermapbox\",\"marker\":{\"colorbar\":{\"outlinewidth\":0,\"ticks\":\"\"}}}],\"scatterternary\":[{\"type\":\"scatterternary\",\"marker\":{\"colorbar\":{\"outlinewidth\":0,\"ticks\":\"\"}}}],\"scattercarpet\":[{\"type\":\"scattercarpet\",\"marker\":{\"colorbar\":{\"outlinewidth\":0,\"ticks\":\"\"}}}],\"carpet\":[{\"aaxis\":{\"endlinecolor\":\"#2a3f5f\",\"gridcolor\":\"white\",\"linecolor\":\"white\",\"minorgridcolor\":\"white\",\"startlinecolor\":\"#2a3f5f\"},\"baxis\":{\"endlinecolor\":\"#2a3f5f\",\"gridcolor\":\"white\",\"linecolor\":\"white\",\"minorgridcolor\":\"white\",\"startlinecolor\":\"#2a3f5f\"},\"type\":\"carpet\"}],\"table\":[{\"cells\":{\"fill\":{\"color\":\"#EBF0F8\"},\"line\":{\"color\":\"white\"}},\"header\":{\"fill\":{\"color\":\"#C8D4E3\"},\"line\":{\"color\":\"white\"}},\"type\":\"table\"}],\"barpolar\":[{\"marker\":{\"line\":{\"color\":\"#E5ECF6\",\"width\":0.5},\"pattern\":{\"fillmode\":\"overlay\",\"size\":10,\"solidity\":0.2}},\"type\":\"barpolar\"}],\"pie\":[{\"automargin\":true,\"type\":\"pie\"}]},\"layout\":{\"autotypenumbers\":\"strict\",\"colorway\":[\"#636efa\",\"#EF553B\",\"#00cc96\",\"#ab63fa\",\"#FFA15A\",\"#19d3f3\",\"#FF6692\",\"#B6E880\",\"#FF97FF\",\"#FECB52\"],\"font\":{\"color\":\"#2a3f5f\"},\"hovermode\":\"closest\",\"hoverlabel\":{\"align\":\"left\"},\"paper_bgcolor\":\"white\",\"plot_bgcolor\":\"#E5ECF6\",\"polar\":{\"bgcolor\":\"#E5ECF6\",\"angularaxis\":{\"gridcolor\":\"white\",\"linecolor\":\"white\",\"ticks\":\"\"},\"radialaxis\":{\"gridcolor\":\"white\",\"linecolor\":\"white\",\"ticks\":\"\"}},\"ternary\":{\"bgcolor\":\"#E5ECF6\",\"aaxis\":{\"gridcolor\":\"white\",\"linecolor\":\"white\",\"ticks\":\"\"},\"baxis\":{\"gridcolor\":\"white\",\"linecolor\":\"white\",\"ticks\":\"\"},\"caxis\":{\"gridcolor\":\"white\",\"linecolor\":\"white\",\"ticks\":\"\"}},\"coloraxis\":{\"colorbar\":{\"outlinewidth\":0,\"ticks\":\"\"}},\"colorscale\":{\"sequential\":[[0.0,\"#0d0887\"],[0.1111111111111111,\"#46039f\"],[0.2222222222222222,\"#7201a8\"],[0.3333333333333333,\"#9c179e\"],[0.4444444444444444,\"#bd3786\"],[0.5555555555555556,\"#d8576b\"],[0.6666666666666666,\"#ed7953\"],[0.7777777777777778,\"#fb9f3a\"],[0.8888888888888888,\"#fdca26\"],[1.0,\"#f0f921\"]],\"sequentialminus\":[[0.0,\"#0d0887\"],[0.1111111111111111,\"#46039f\"],[0.2222222222222222,\"#7201a8\"],[0.3333333333333333,\"#9c179e\"],[0.4444444444444444,\"#bd3786\"],[0.5555555555555556,\"#d8576b\"],[0.6666666666666666,\"#ed7953\"],[0.7777777777777778,\"#fb9f3a\"],[0.8888888888888888,\"#fdca26\"],[1.0,\"#f0f921\"]],\"diverging\":[[0,\"#8e0152\"],[0.1,\"#c51b7d\"],[0.2,\"#de77ae\"],[0.3,\"#f1b6da\"],[0.4,\"#fde0ef\"],[0.5,\"#f7f7f7\"],[0.6,\"#e6f5d0\"],[0.7,\"#b8e186\"],[0.8,\"#7fbc41\"],[0.9,\"#4d9221\"],[1,\"#276419\"]]},\"xaxis\":{\"gridcolor\":\"white\",\"linecolor\":\"white\",\"ticks\":\"\",\"title\":{\"standoff\":15},\"zerolinecolor\":\"white\",\"automargin\":true,\"zerolinewidth\":2},\"yaxis\":{\"gridcolor\":\"white\",\"linecolor\":\"white\",\"ticks\":\"\",\"title\":{\"standoff\":15},\"zerolinecolor\":\"white\",\"automargin\":true,\"zerolinewidth\":2},\"scene\":{\"xaxis\":{\"backgroundcolor\":\"#E5ECF6\",\"gridcolor\":\"white\",\"linecolor\":\"white\",\"showbackground\":true,\"ticks\":\"\",\"zerolinecolor\":\"white\",\"gridwidth\":2},\"yaxis\":{\"backgroundcolor\":\"#E5ECF6\",\"gridcolor\":\"white\",\"linecolor\":\"white\",\"showbackground\":true,\"ticks\":\"\",\"zerolinecolor\":\"white\",\"gridwidth\":2},\"zaxis\":{\"backgroundcolor\":\"#E5ECF6\",\"gridcolor\":\"white\",\"linecolor\":\"white\",\"showbackground\":true,\"ticks\":\"\",\"zerolinecolor\":\"white\",\"gridwidth\":2}},\"shapedefaults\":{\"line\":{\"color\":\"#2a3f5f\"}},\"annotationdefaults\":{\"arrowcolor\":\"#2a3f5f\",\"arrowhead\":0,\"arrowwidth\":1},\"geo\":{\"bgcolor\":\"white\",\"landcolor\":\"#E5ECF6\",\"subunitcolor\":\"white\",\"showland\":true,\"showlakes\":true,\"lakecolor\":\"white\"},\"title\":{\"x\":0.05},\"mapbox\":{\"style\":\"light\"}}},\"xaxis\":{\"anchor\":\"y\",\"domain\":[0.0,0.1388888888888889],\"matches\":\"x31\",\"showticklabels\":false,\"range\":[-0.05,1.05],\"type\":\"category\"},\"yaxis\":{\"anchor\":\"x\",\"domain\":[0.875,1.0],\"range\":[-0.05,1.05],\"type\":\"category\",\"title\":{\"text\":\"activation\"}},\"xaxis2\":{\"anchor\":\"y2\",\"domain\":[0.17222222222222222,0.3111111111111111],\"matches\":\"x32\",\"showticklabels\":false,\"range\":[0.20846910138151467,0.49948060903212416]},\"yaxis2\":{\"anchor\":\"x2\",\"domain\":[0.875,1.0],\"matches\":\"y\",\"showticklabels\":false,\"range\":[-0.05,1.05],\"type\":\"category\"},\"xaxis3\":{\"anchor\":\"y3\",\"domain\":[0.34444444444444444,0.48333333333333334],\"matches\":\"x33\",\"showticklabels\":false,\"range\":[36.55,68.45]},\"yaxis3\":{\"anchor\":\"x3\",\"domain\":[0.875,1.0],\"matches\":\"y\",\"showticklabels\":false,\"range\":[-0.05,1.05],\"type\":\"category\"},\"xaxis4\":{\"anchor\":\"y4\",\"domain\":[0.5166666666666667,0.6555555555555557],\"matches\":\"x34\",\"showticklabels\":false,\"range\":[2.9,5.1]},\"yaxis4\":{\"anchor\":\"x4\",\"domain\":[0.875,1.0],\"matches\":\"y\",\"showticklabels\":false,\"range\":[-0.05,1.05],\"type\":\"category\"},\"xaxis5\":{\"anchor\":\"y5\",\"domain\":[0.6888888888888889,0.8277777777777777],\"matches\":\"x35\",\"showticklabels\":false,\"range\":[-3.926409512300215,-2.825752397769561],\"type\":\"log\"},\"yaxis5\":{\"anchor\":\"x5\",\"domain\":[0.875,1.0],\"matches\":\"y\",\"showticklabels\":false,\"range\":[-0.05,1.05],\"type\":\"category\"},\"xaxis6\":{\"anchor\":\"y6\",\"domain\":[0.861111111111111,1.0],\"matches\":\"x36\",\"showticklabels\":false,\"range\":[0.8,5.2]},\"yaxis6\":{\"anchor\":\"x6\",\"domain\":[0.875,1.0],\"matches\":\"y\",\"showticklabels\":false,\"range\":[-0.05,1.05],\"type\":\"category\"},\"xaxis7\":{\"anchor\":\"y7\",\"domain\":[0.0,0.1388888888888889],\"matches\":\"x31\",\"showticklabels\":false,\"range\":[-0.05,1.05],\"type\":\"category\"},\"yaxis7\":{\"anchor\":\"x7\",\"domain\":[0.7,0.825],\"range\":[0.20846910138151467,0.49948060903212416],\"title\":{\"text\":\"dropout_rate\"}},\"xaxis8\":{\"anchor\":\"y8\",\"domain\":[0.17222222222222222,0.3111111111111111],\"matches\":\"x32\",\"showticklabels\":false,\"range\":[0.20846910138151467,0.49948060903212416]},\"yaxis8\":{\"anchor\":\"x8\",\"domain\":[0.7,0.825],\"matches\":\"y7\",\"showticklabels\":false,\"range\":[0.20846910138151467,0.49948060903212416]},\"xaxis9\":{\"anchor\":\"y9\",\"domain\":[0.34444444444444444,0.48333333333333334],\"matches\":\"x33\",\"showticklabels\":false,\"range\":[36.55,68.45]},\"yaxis9\":{\"anchor\":\"x9\",\"domain\":[0.7,0.825],\"matches\":\"y7\",\"showticklabels\":false,\"range\":[0.20846910138151467,0.49948060903212416]},\"xaxis10\":{\"anchor\":\"y10\",\"domain\":[0.5166666666666667,0.6555555555555557],\"matches\":\"x34\",\"showticklabels\":false,\"range\":[2.9,5.1]},\"yaxis10\":{\"anchor\":\"x10\",\"domain\":[0.7,0.825],\"matches\":\"y7\",\"showticklabels\":false,\"range\":[0.20846910138151467,0.49948060903212416]},\"xaxis11\":{\"anchor\":\"y11\",\"domain\":[0.6888888888888889,0.8277777777777777],\"matches\":\"x35\",\"showticklabels\":false,\"range\":[-3.926409512300215,-2.825752397769561],\"type\":\"log\"},\"yaxis11\":{\"anchor\":\"x11\",\"domain\":[0.7,0.825],\"matches\":\"y7\",\"showticklabels\":false,\"range\":[0.20846910138151467,0.49948060903212416]},\"xaxis12\":{\"anchor\":\"y12\",\"domain\":[0.861111111111111,1.0],\"matches\":\"x36\",\"showticklabels\":false,\"range\":[0.8,5.2]},\"yaxis12\":{\"anchor\":\"x12\",\"domain\":[0.7,0.825],\"matches\":\"y7\",\"showticklabels\":false,\"range\":[0.20846910138151467,0.49948060903212416]},\"xaxis13\":{\"anchor\":\"y13\",\"domain\":[0.0,0.1388888888888889],\"matches\":\"x31\",\"showticklabels\":false,\"range\":[-0.05,1.05],\"type\":\"category\"},\"yaxis13\":{\"anchor\":\"x13\",\"domain\":[0.525,0.65],\"range\":[36.55,68.45],\"title\":{\"text\":\"filters\"}},\"xaxis14\":{\"anchor\":\"y14\",\"domain\":[0.17222222222222222,0.3111111111111111],\"matches\":\"x32\",\"showticklabels\":false,\"range\":[0.20846910138151467,0.49948060903212416]},\"yaxis14\":{\"anchor\":\"x14\",\"domain\":[0.525,0.65],\"matches\":\"y13\",\"showticklabels\":false,\"range\":[36.55,68.45]},\"xaxis15\":{\"anchor\":\"y15\",\"domain\":[0.34444444444444444,0.48333333333333334],\"matches\":\"x33\",\"showticklabels\":false,\"range\":[36.55,68.45]},\"yaxis15\":{\"anchor\":\"x15\",\"domain\":[0.525,0.65],\"matches\":\"y13\",\"showticklabels\":false,\"range\":[36.55,68.45]},\"xaxis16\":{\"anchor\":\"y16\",\"domain\":[0.5166666666666667,0.6555555555555557],\"matches\":\"x34\",\"showticklabels\":false,\"range\":[2.9,5.1]},\"yaxis16\":{\"anchor\":\"x16\",\"domain\":[0.525,0.65],\"matches\":\"y13\",\"showticklabels\":false,\"range\":[36.55,68.45]},\"xaxis17\":{\"anchor\":\"y17\",\"domain\":[0.6888888888888889,0.8277777777777777],\"matches\":\"x35\",\"showticklabels\":false,\"range\":[-3.926409512300215,-2.825752397769561],\"type\":\"log\"},\"yaxis17\":{\"anchor\":\"x17\",\"domain\":[0.525,0.65],\"matches\":\"y13\",\"showticklabels\":false,\"range\":[36.55,68.45]},\"xaxis18\":{\"anchor\":\"y18\",\"domain\":[0.861111111111111,1.0],\"matches\":\"x36\",\"showticklabels\":false,\"range\":[0.8,5.2]},\"yaxis18\":{\"anchor\":\"x18\",\"domain\":[0.525,0.65],\"matches\":\"y13\",\"showticklabels\":false,\"range\":[36.55,68.45]},\"xaxis19\":{\"anchor\":\"y19\",\"domain\":[0.0,0.1388888888888889],\"matches\":\"x31\",\"showticklabels\":false,\"range\":[-0.05,1.05],\"type\":\"category\"},\"yaxis19\":{\"anchor\":\"x19\",\"domain\":[0.35,0.475],\"range\":[2.9,5.1],\"title\":{\"text\":\"kernel_size\"}},\"xaxis20\":{\"anchor\":\"y20\",\"domain\":[0.17222222222222222,0.3111111111111111],\"matches\":\"x32\",\"showticklabels\":false,\"range\":[0.20846910138151467,0.49948060903212416]},\"yaxis20\":{\"anchor\":\"x20\",\"domain\":[0.35,0.475],\"matches\":\"y19\",\"showticklabels\":false,\"range\":[2.9,5.1]},\"xaxis21\":{\"anchor\":\"y21\",\"domain\":[0.34444444444444444,0.48333333333333334],\"matches\":\"x33\",\"showticklabels\":false,\"range\":[36.55,68.45]},\"yaxis21\":{\"anchor\":\"x21\",\"domain\":[0.35,0.475],\"matches\":\"y19\",\"showticklabels\":false,\"range\":[2.9,5.1]},\"xaxis22\":{\"anchor\":\"y22\",\"domain\":[0.5166666666666667,0.6555555555555557],\"matches\":\"x34\",\"showticklabels\":false,\"range\":[2.9,5.1]},\"yaxis22\":{\"anchor\":\"x22\",\"domain\":[0.35,0.475],\"matches\":\"y19\",\"showticklabels\":false,\"range\":[2.9,5.1]},\"xaxis23\":{\"anchor\":\"y23\",\"domain\":[0.6888888888888889,0.8277777777777777],\"matches\":\"x35\",\"showticklabels\":false,\"range\":[-3.926409512300215,-2.825752397769561],\"type\":\"log\"},\"yaxis23\":{\"anchor\":\"x23\",\"domain\":[0.35,0.475],\"matches\":\"y19\",\"showticklabels\":false,\"range\":[2.9,5.1]},\"xaxis24\":{\"anchor\":\"y24\",\"domain\":[0.861111111111111,1.0],\"matches\":\"x36\",\"showticklabels\":false,\"range\":[0.8,5.2]},\"yaxis24\":{\"anchor\":\"x24\",\"domain\":[0.35,0.475],\"matches\":\"y19\",\"showticklabels\":false,\"range\":[2.9,5.1]},\"xaxis25\":{\"anchor\":\"y25\",\"domain\":[0.0,0.1388888888888889],\"matches\":\"x31\",\"showticklabels\":false,\"range\":[-0.05,1.05],\"type\":\"category\"},\"yaxis25\":{\"anchor\":\"x25\",\"domain\":[0.175,0.3],\"range\":[-3.926409512300215,-2.825752397769561],\"type\":\"log\",\"title\":{\"text\":\"learning_rate\"}},\"xaxis26\":{\"anchor\":\"y26\",\"domain\":[0.17222222222222222,0.3111111111111111],\"matches\":\"x32\",\"showticklabels\":false,\"range\":[0.20846910138151467,0.49948060903212416]},\"yaxis26\":{\"anchor\":\"x26\",\"domain\":[0.175,0.3],\"matches\":\"y25\",\"showticklabels\":false,\"range\":[-3.926409512300215,-2.825752397769561],\"type\":\"log\"},\"xaxis27\":{\"anchor\":\"y27\",\"domain\":[0.34444444444444444,0.48333333333333334],\"matches\":\"x33\",\"showticklabels\":false,\"range\":[36.55,68.45]},\"yaxis27\":{\"anchor\":\"x27\",\"domain\":[0.175,0.3],\"matches\":\"y25\",\"showticklabels\":false,\"range\":[-3.926409512300215,-2.825752397769561],\"type\":\"log\"},\"xaxis28\":{\"anchor\":\"y28\",\"domain\":[0.5166666666666667,0.6555555555555557],\"matches\":\"x34\",\"showticklabels\":false,\"range\":[2.9,5.1]},\"yaxis28\":{\"anchor\":\"x28\",\"domain\":[0.175,0.3],\"matches\":\"y25\",\"showticklabels\":false,\"range\":[-3.926409512300215,-2.825752397769561],\"type\":\"log\"},\"xaxis29\":{\"anchor\":\"y29\",\"domain\":[0.6888888888888889,0.8277777777777777],\"matches\":\"x35\",\"showticklabels\":false,\"range\":[-3.926409512300215,-2.825752397769561],\"type\":\"log\"},\"yaxis29\":{\"anchor\":\"x29\",\"domain\":[0.175,0.3],\"matches\":\"y25\",\"showticklabels\":false,\"range\":[-3.926409512300215,-2.825752397769561],\"type\":\"log\"},\"xaxis30\":{\"anchor\":\"y30\",\"domain\":[0.861111111111111,1.0],\"matches\":\"x36\",\"showticklabels\":false,\"range\":[0.8,5.2]},\"yaxis30\":{\"anchor\":\"x30\",\"domain\":[0.175,0.3],\"matches\":\"y25\",\"showticklabels\":false,\"range\":[-3.926409512300215,-2.825752397769561],\"type\":\"log\"},\"xaxis31\":{\"anchor\":\"y31\",\"domain\":[0.0,0.1388888888888889],\"range\":[-0.05,1.05],\"type\":\"category\",\"title\":{\"text\":\"activation\"}},\"yaxis31\":{\"anchor\":\"x31\",\"domain\":[0.0,0.125],\"range\":[0.8,5.2],\"title\":{\"text\":\"num_layers\"}},\"xaxis32\":{\"anchor\":\"y32\",\"domain\":[0.17222222222222222,0.3111111111111111],\"range\":[0.20846910138151467,0.49948060903212416],\"title\":{\"text\":\"dropout_rate\"}},\"yaxis32\":{\"anchor\":\"x32\",\"domain\":[0.0,0.125],\"matches\":\"y31\",\"showticklabels\":false,\"range\":[0.8,5.2]},\"xaxis33\":{\"anchor\":\"y33\",\"domain\":[0.34444444444444444,0.48333333333333334],\"range\":[36.55,68.45],\"title\":{\"text\":\"filters\"}},\"yaxis33\":{\"anchor\":\"x33\",\"domain\":[0.0,0.125],\"matches\":\"y31\",\"showticklabels\":false,\"range\":[0.8,5.2]},\"xaxis34\":{\"anchor\":\"y34\",\"domain\":[0.5166666666666667,0.6555555555555557],\"range\":[2.9,5.1],\"title\":{\"text\":\"kernel_size\"}},\"yaxis34\":{\"anchor\":\"x34\",\"domain\":[0.0,0.125],\"matches\":\"y31\",\"showticklabels\":false,\"range\":[0.8,5.2]},\"xaxis35\":{\"anchor\":\"y35\",\"domain\":[0.6888888888888889,0.8277777777777777],\"range\":[-3.926409512300215,-2.825752397769561],\"type\":\"log\",\"title\":{\"text\":\"learning_rate\"}},\"yaxis35\":{\"anchor\":\"x35\",\"domain\":[0.0,0.125],\"matches\":\"y31\",\"showticklabels\":false,\"range\":[0.8,5.2]},\"xaxis36\":{\"anchor\":\"y36\",\"domain\":[0.861111111111111,1.0],\"range\":[0.8,5.2],\"title\":{\"text\":\"num_layers\"}},\"yaxis36\":{\"anchor\":\"x36\",\"domain\":[0.0,0.125],\"matches\":\"y31\",\"showticklabels\":false,\"range\":[0.8,5.2]},\"title\":{\"text\":\"Contour Plot\"},\"margin\":{\"l\":30,\"r\":30,\"t\":30,\"b\":30},\"paper_bgcolor\":\"LightSteelBlue\"},                        {\"responsive\": true}                    ).then(function(){\n",
       "                            \n",
       "var gd = document.getElementById('3262924a-66cf-4f63-8ac1-bc67a874085a');\n",
       "var x = new MutationObserver(function (mutations, observer) {{\n",
       "        var display = window.getComputedStyle(gd).display;\n",
       "        if (!display || display === 'none') {{\n",
       "            console.log([gd, 'removed!']);\n",
       "            Plotly.purge(gd);\n",
       "            observer.disconnect();\n",
       "        }}\n",
       "}});\n",
       "\n",
       "// Listen for the removal of the full notebook cells\n",
       "var notebookContainer = gd.closest('#notebook-container');\n",
       "if (notebookContainer) {{\n",
       "    x.observe(notebookContainer, {childList: true});\n",
       "}}\n",
       "\n",
       "// Listen for the clearing of the current output cell\n",
       "var outputEl = gd.closest('.output');\n",
       "if (outputEl) {{\n",
       "    x.observe(outputEl, {childList: true});\n",
       "}}\n",
       "\n",
       "                        })                };                });            </script>        </div>"
      ]
     },
     "metadata": {},
     "output_type": "display_data"
    }
   ],
   "source": [
    "#plot parameter relationship as a contour plot\n",
    "fig = optuna.visualization.plot_contour(study, params=[\"num_layers\", \"filters\",\"kernel_size\",\"learning_rate\",\"activation\",\"dropout_rate\"])\n",
    "fig.update_layout(\n",
    "    margin=dict(l=30, r=30, t=30, b=30),\n",
    "    paper_bgcolor=\"LightSteelBlue\",\n",
    ")\n",
    "fig.show()"
   ]
  },
  {
   "cell_type": "code",
   "execution_count": 15,
   "metadata": {
    "execution": {
     "iopub.execute_input": "2023-04-06T16:20:35.057770Z",
     "iopub.status.busy": "2023-04-06T16:20:35.057397Z",
     "iopub.status.idle": "2023-04-06T16:20:35.292049Z",
     "shell.execute_reply": "2023-04-06T16:20:35.291038Z",
     "shell.execute_reply.started": "2023-04-06T16:20:35.057735Z"
    },
    "id": "X3FtMLUBOSvF"
   },
   "outputs": [
    {
     "data": {
      "text/html": [
       "<div>                            <div id=\"32a08b8a-12c7-4c32-8afe-4789d3e4e9b5\" class=\"plotly-graph-div\" style=\"height:525px; width:100%;\"></div>            <script type=\"text/javascript\">                require([\"plotly\"], function(Plotly) {                    window.PLOTLYENV=window.PLOTLYENV || {};                                    if (document.getElementById(\"32a08b8a-12c7-4c32-8afe-4789d3e4e9b5\")) {                    Plotly.newPlot(                        \"32a08b8a-12c7-4c32-8afe-4789d3e4e9b5\",                        [{\"cliponaxis\":false,\"hovertemplate\":[\"learning_rate (FloatDistribution): 0.10139088074718519<extra></extra>\",\"kernel_size (IntDistribution): 0.11110546165761763<extra></extra>\",\"filters (IntDistribution): 0.12600983968050677<extra></extra>\",\"num_layers (IntDistribution): 0.12637612666355388<extra></extra>\",\"dropout_rate (FloatDistribution): 0.15643399133651126<extra></extra>\",\"units (IntDistribution): 0.16054715808393744<extra></extra>\",\"activation (CategoricalDistribution): 0.21813654183068787<extra></extra>\"],\"marker\":{\"color\":\"rgb(66,146,198)\"},\"orientation\":\"h\",\"text\":[\"0.10\",\"0.11\",\"0.13\",\"0.13\",\"0.16\",\"0.16\",\"0.22\"],\"textposition\":\"outside\",\"x\":[0.10139088074718519,0.11110546165761763,0.12600983968050677,0.12637612666355388,0.15643399133651126,0.16054715808393744,0.21813654183068787],\"y\":[\"learning_rate\",\"kernel_size\",\"filters\",\"num_layers\",\"dropout_rate\",\"units\",\"activation\"],\"type\":\"bar\"}],                        {\"showlegend\":false,\"title\":{\"text\":\"Hyperparameter Importances\"},\"xaxis\":{\"title\":{\"text\":\"Importance for Objective Value\"}},\"yaxis\":{\"title\":{\"text\":\"Hyperparameter\"}},\"template\":{\"data\":{\"histogram2dcontour\":[{\"type\":\"histogram2dcontour\",\"colorbar\":{\"outlinewidth\":0,\"ticks\":\"\"},\"colorscale\":[[0.0,\"#0d0887\"],[0.1111111111111111,\"#46039f\"],[0.2222222222222222,\"#7201a8\"],[0.3333333333333333,\"#9c179e\"],[0.4444444444444444,\"#bd3786\"],[0.5555555555555556,\"#d8576b\"],[0.6666666666666666,\"#ed7953\"],[0.7777777777777778,\"#fb9f3a\"],[0.8888888888888888,\"#fdca26\"],[1.0,\"#f0f921\"]]}],\"choropleth\":[{\"type\":\"choropleth\",\"colorbar\":{\"outlinewidth\":0,\"ticks\":\"\"}}],\"histogram2d\":[{\"type\":\"histogram2d\",\"colorbar\":{\"outlinewidth\":0,\"ticks\":\"\"},\"colorscale\":[[0.0,\"#0d0887\"],[0.1111111111111111,\"#46039f\"],[0.2222222222222222,\"#7201a8\"],[0.3333333333333333,\"#9c179e\"],[0.4444444444444444,\"#bd3786\"],[0.5555555555555556,\"#d8576b\"],[0.6666666666666666,\"#ed7953\"],[0.7777777777777778,\"#fb9f3a\"],[0.8888888888888888,\"#fdca26\"],[1.0,\"#f0f921\"]]}],\"heatmap\":[{\"type\":\"heatmap\",\"colorbar\":{\"outlinewidth\":0,\"ticks\":\"\"},\"colorscale\":[[0.0,\"#0d0887\"],[0.1111111111111111,\"#46039f\"],[0.2222222222222222,\"#7201a8\"],[0.3333333333333333,\"#9c179e\"],[0.4444444444444444,\"#bd3786\"],[0.5555555555555556,\"#d8576b\"],[0.6666666666666666,\"#ed7953\"],[0.7777777777777778,\"#fb9f3a\"],[0.8888888888888888,\"#fdca26\"],[1.0,\"#f0f921\"]]}],\"heatmapgl\":[{\"type\":\"heatmapgl\",\"colorbar\":{\"outlinewidth\":0,\"ticks\":\"\"},\"colorscale\":[[0.0,\"#0d0887\"],[0.1111111111111111,\"#46039f\"],[0.2222222222222222,\"#7201a8\"],[0.3333333333333333,\"#9c179e\"],[0.4444444444444444,\"#bd3786\"],[0.5555555555555556,\"#d8576b\"],[0.6666666666666666,\"#ed7953\"],[0.7777777777777778,\"#fb9f3a\"],[0.8888888888888888,\"#fdca26\"],[1.0,\"#f0f921\"]]}],\"contourcarpet\":[{\"type\":\"contourcarpet\",\"colorbar\":{\"outlinewidth\":0,\"ticks\":\"\"}}],\"contour\":[{\"type\":\"contour\",\"colorbar\":{\"outlinewidth\":0,\"ticks\":\"\"},\"colorscale\":[[0.0,\"#0d0887\"],[0.1111111111111111,\"#46039f\"],[0.2222222222222222,\"#7201a8\"],[0.3333333333333333,\"#9c179e\"],[0.4444444444444444,\"#bd3786\"],[0.5555555555555556,\"#d8576b\"],[0.6666666666666666,\"#ed7953\"],[0.7777777777777778,\"#fb9f3a\"],[0.8888888888888888,\"#fdca26\"],[1.0,\"#f0f921\"]]}],\"surface\":[{\"type\":\"surface\",\"colorbar\":{\"outlinewidth\":0,\"ticks\":\"\"},\"colorscale\":[[0.0,\"#0d0887\"],[0.1111111111111111,\"#46039f\"],[0.2222222222222222,\"#7201a8\"],[0.3333333333333333,\"#9c179e\"],[0.4444444444444444,\"#bd3786\"],[0.5555555555555556,\"#d8576b\"],[0.6666666666666666,\"#ed7953\"],[0.7777777777777778,\"#fb9f3a\"],[0.8888888888888888,\"#fdca26\"],[1.0,\"#f0f921\"]]}],\"mesh3d\":[{\"type\":\"mesh3d\",\"colorbar\":{\"outlinewidth\":0,\"ticks\":\"\"}}],\"scatter\":[{\"fillpattern\":{\"fillmode\":\"overlay\",\"size\":10,\"solidity\":0.2},\"type\":\"scatter\"}],\"parcoords\":[{\"type\":\"parcoords\",\"line\":{\"colorbar\":{\"outlinewidth\":0,\"ticks\":\"\"}}}],\"scatterpolargl\":[{\"type\":\"scatterpolargl\",\"marker\":{\"colorbar\":{\"outlinewidth\":0,\"ticks\":\"\"}}}],\"bar\":[{\"error_x\":{\"color\":\"#2a3f5f\"},\"error_y\":{\"color\":\"#2a3f5f\"},\"marker\":{\"line\":{\"color\":\"#E5ECF6\",\"width\":0.5},\"pattern\":{\"fillmode\":\"overlay\",\"size\":10,\"solidity\":0.2}},\"type\":\"bar\"}],\"scattergeo\":[{\"type\":\"scattergeo\",\"marker\":{\"colorbar\":{\"outlinewidth\":0,\"ticks\":\"\"}}}],\"scatterpolar\":[{\"type\":\"scatterpolar\",\"marker\":{\"colorbar\":{\"outlinewidth\":0,\"ticks\":\"\"}}}],\"histogram\":[{\"marker\":{\"pattern\":{\"fillmode\":\"overlay\",\"size\":10,\"solidity\":0.2}},\"type\":\"histogram\"}],\"scattergl\":[{\"type\":\"scattergl\",\"marker\":{\"colorbar\":{\"outlinewidth\":0,\"ticks\":\"\"}}}],\"scatter3d\":[{\"type\":\"scatter3d\",\"line\":{\"colorbar\":{\"outlinewidth\":0,\"ticks\":\"\"}},\"marker\":{\"colorbar\":{\"outlinewidth\":0,\"ticks\":\"\"}}}],\"scattermapbox\":[{\"type\":\"scattermapbox\",\"marker\":{\"colorbar\":{\"outlinewidth\":0,\"ticks\":\"\"}}}],\"scatterternary\":[{\"type\":\"scatterternary\",\"marker\":{\"colorbar\":{\"outlinewidth\":0,\"ticks\":\"\"}}}],\"scattercarpet\":[{\"type\":\"scattercarpet\",\"marker\":{\"colorbar\":{\"outlinewidth\":0,\"ticks\":\"\"}}}],\"carpet\":[{\"aaxis\":{\"endlinecolor\":\"#2a3f5f\",\"gridcolor\":\"white\",\"linecolor\":\"white\",\"minorgridcolor\":\"white\",\"startlinecolor\":\"#2a3f5f\"},\"baxis\":{\"endlinecolor\":\"#2a3f5f\",\"gridcolor\":\"white\",\"linecolor\":\"white\",\"minorgridcolor\":\"white\",\"startlinecolor\":\"#2a3f5f\"},\"type\":\"carpet\"}],\"table\":[{\"cells\":{\"fill\":{\"color\":\"#EBF0F8\"},\"line\":{\"color\":\"white\"}},\"header\":{\"fill\":{\"color\":\"#C8D4E3\"},\"line\":{\"color\":\"white\"}},\"type\":\"table\"}],\"barpolar\":[{\"marker\":{\"line\":{\"color\":\"#E5ECF6\",\"width\":0.5},\"pattern\":{\"fillmode\":\"overlay\",\"size\":10,\"solidity\":0.2}},\"type\":\"barpolar\"}],\"pie\":[{\"automargin\":true,\"type\":\"pie\"}]},\"layout\":{\"autotypenumbers\":\"strict\",\"colorway\":[\"#636efa\",\"#EF553B\",\"#00cc96\",\"#ab63fa\",\"#FFA15A\",\"#19d3f3\",\"#FF6692\",\"#B6E880\",\"#FF97FF\",\"#FECB52\"],\"font\":{\"color\":\"#2a3f5f\"},\"hovermode\":\"closest\",\"hoverlabel\":{\"align\":\"left\"},\"paper_bgcolor\":\"white\",\"plot_bgcolor\":\"#E5ECF6\",\"polar\":{\"bgcolor\":\"#E5ECF6\",\"angularaxis\":{\"gridcolor\":\"white\",\"linecolor\":\"white\",\"ticks\":\"\"},\"radialaxis\":{\"gridcolor\":\"white\",\"linecolor\":\"white\",\"ticks\":\"\"}},\"ternary\":{\"bgcolor\":\"#E5ECF6\",\"aaxis\":{\"gridcolor\":\"white\",\"linecolor\":\"white\",\"ticks\":\"\"},\"baxis\":{\"gridcolor\":\"white\",\"linecolor\":\"white\",\"ticks\":\"\"},\"caxis\":{\"gridcolor\":\"white\",\"linecolor\":\"white\",\"ticks\":\"\"}},\"coloraxis\":{\"colorbar\":{\"outlinewidth\":0,\"ticks\":\"\"}},\"colorscale\":{\"sequential\":[[0.0,\"#0d0887\"],[0.1111111111111111,\"#46039f\"],[0.2222222222222222,\"#7201a8\"],[0.3333333333333333,\"#9c179e\"],[0.4444444444444444,\"#bd3786\"],[0.5555555555555556,\"#d8576b\"],[0.6666666666666666,\"#ed7953\"],[0.7777777777777778,\"#fb9f3a\"],[0.8888888888888888,\"#fdca26\"],[1.0,\"#f0f921\"]],\"sequentialminus\":[[0.0,\"#0d0887\"],[0.1111111111111111,\"#46039f\"],[0.2222222222222222,\"#7201a8\"],[0.3333333333333333,\"#9c179e\"],[0.4444444444444444,\"#bd3786\"],[0.5555555555555556,\"#d8576b\"],[0.6666666666666666,\"#ed7953\"],[0.7777777777777778,\"#fb9f3a\"],[0.8888888888888888,\"#fdca26\"],[1.0,\"#f0f921\"]],\"diverging\":[[0,\"#8e0152\"],[0.1,\"#c51b7d\"],[0.2,\"#de77ae\"],[0.3,\"#f1b6da\"],[0.4,\"#fde0ef\"],[0.5,\"#f7f7f7\"],[0.6,\"#e6f5d0\"],[0.7,\"#b8e186\"],[0.8,\"#7fbc41\"],[0.9,\"#4d9221\"],[1,\"#276419\"]]},\"xaxis\":{\"gridcolor\":\"white\",\"linecolor\":\"white\",\"ticks\":\"\",\"title\":{\"standoff\":15},\"zerolinecolor\":\"white\",\"automargin\":true,\"zerolinewidth\":2},\"yaxis\":{\"gridcolor\":\"white\",\"linecolor\":\"white\",\"ticks\":\"\",\"title\":{\"standoff\":15},\"zerolinecolor\":\"white\",\"automargin\":true,\"zerolinewidth\":2},\"scene\":{\"xaxis\":{\"backgroundcolor\":\"#E5ECF6\",\"gridcolor\":\"white\",\"linecolor\":\"white\",\"showbackground\":true,\"ticks\":\"\",\"zerolinecolor\":\"white\",\"gridwidth\":2},\"yaxis\":{\"backgroundcolor\":\"#E5ECF6\",\"gridcolor\":\"white\",\"linecolor\":\"white\",\"showbackground\":true,\"ticks\":\"\",\"zerolinecolor\":\"white\",\"gridwidth\":2},\"zaxis\":{\"backgroundcolor\":\"#E5ECF6\",\"gridcolor\":\"white\",\"linecolor\":\"white\",\"showbackground\":true,\"ticks\":\"\",\"zerolinecolor\":\"white\",\"gridwidth\":2}},\"shapedefaults\":{\"line\":{\"color\":\"#2a3f5f\"}},\"annotationdefaults\":{\"arrowcolor\":\"#2a3f5f\",\"arrowhead\":0,\"arrowwidth\":1},\"geo\":{\"bgcolor\":\"white\",\"landcolor\":\"#E5ECF6\",\"subunitcolor\":\"white\",\"showland\":true,\"showlakes\":true,\"lakecolor\":\"white\"},\"title\":{\"x\":0.05},\"mapbox\":{\"style\":\"light\"}}}},                        {\"responsive\": true}                    ).then(function(){\n",
       "                            \n",
       "var gd = document.getElementById('32a08b8a-12c7-4c32-8afe-4789d3e4e9b5');\n",
       "var x = new MutationObserver(function (mutations, observer) {{\n",
       "        var display = window.getComputedStyle(gd).display;\n",
       "        if (!display || display === 'none') {{\n",
       "            console.log([gd, 'removed!']);\n",
       "            Plotly.purge(gd);\n",
       "            observer.disconnect();\n",
       "        }}\n",
       "}});\n",
       "\n",
       "// Listen for the removal of the full notebook cells\n",
       "var notebookContainer = gd.closest('#notebook-container');\n",
       "if (notebookContainer) {{\n",
       "    x.observe(notebookContainer, {childList: true});\n",
       "}}\n",
       "\n",
       "// Listen for the clearing of the current output cell\n",
       "var outputEl = gd.closest('.output');\n",
       "if (outputEl) {{\n",
       "    x.observe(outputEl, {childList: true});\n",
       "}}\n",
       "\n",
       "                        })                };                });            </script>        </div>"
      ]
     },
     "metadata": {},
     "output_type": "display_data"
    }
   ],
   "source": [
    "#importance of parameter \n",
    "fig = optuna.visualization.plot_param_importances(study)\n",
    "fig.show()"
   ]
  },
  {
   "cell_type": "code",
   "execution_count": 17,
   "metadata": {
    "execution": {
     "iopub.execute_input": "2023-04-06T16:21:23.868661Z",
     "iopub.status.busy": "2023-04-06T16:21:23.867596Z",
     "iopub.status.idle": "2023-04-06T16:21:23.883091Z",
     "shell.execute_reply": "2023-04-06T16:21:23.881851Z",
     "shell.execute_reply.started": "2023-04-06T16:21:23.868611Z"
    },
    "id": "ZM9efw2BOSrD"
   },
   "outputs": [
    {
     "data": {
      "text/html": [
       "<div>                            <div id=\"83bae1e4-30f8-4b73-8b6e-ce4513f9a413\" class=\"plotly-graph-div\" style=\"height:525px; width:100%;\"></div>            <script type=\"text/javascript\">                require([\"plotly\"], function(Plotly) {                    window.PLOTLYENV=window.PLOTLYENV || {};                                    if (document.getElementById(\"83bae1e4-30f8-4b73-8b6e-ce4513f9a413\")) {                    Plotly.newPlot(                        \"83bae1e4-30f8-4b73-8b6e-ce4513f9a413\",                        [{\"mode\":\"markers\",\"name\":\"Objective Value\",\"x\":[0,1,2,3],\"y\":[0.6845637559890747,0.6510066986083984,0.6275168061256409,0.47651007771492004],\"type\":\"scatter\"},{\"name\":\"Best Value\",\"x\":[0,1,2,3],\"y\":[0.6845637559890747,0.6845637559890747,0.6845637559890747,0.6845637559890747],\"type\":\"scatter\"}],                        {\"title\":{\"text\":\"Optimization History Plot\"},\"xaxis\":{\"title\":{\"text\":\"Trial\"}},\"yaxis\":{\"title\":{\"text\":\"Objective Value\"}},\"template\":{\"data\":{\"histogram2dcontour\":[{\"type\":\"histogram2dcontour\",\"colorbar\":{\"outlinewidth\":0,\"ticks\":\"\"},\"colorscale\":[[0.0,\"#0d0887\"],[0.1111111111111111,\"#46039f\"],[0.2222222222222222,\"#7201a8\"],[0.3333333333333333,\"#9c179e\"],[0.4444444444444444,\"#bd3786\"],[0.5555555555555556,\"#d8576b\"],[0.6666666666666666,\"#ed7953\"],[0.7777777777777778,\"#fb9f3a\"],[0.8888888888888888,\"#fdca26\"],[1.0,\"#f0f921\"]]}],\"choropleth\":[{\"type\":\"choropleth\",\"colorbar\":{\"outlinewidth\":0,\"ticks\":\"\"}}],\"histogram2d\":[{\"type\":\"histogram2d\",\"colorbar\":{\"outlinewidth\":0,\"ticks\":\"\"},\"colorscale\":[[0.0,\"#0d0887\"],[0.1111111111111111,\"#46039f\"],[0.2222222222222222,\"#7201a8\"],[0.3333333333333333,\"#9c179e\"],[0.4444444444444444,\"#bd3786\"],[0.5555555555555556,\"#d8576b\"],[0.6666666666666666,\"#ed7953\"],[0.7777777777777778,\"#fb9f3a\"],[0.8888888888888888,\"#fdca26\"],[1.0,\"#f0f921\"]]}],\"heatmap\":[{\"type\":\"heatmap\",\"colorbar\":{\"outlinewidth\":0,\"ticks\":\"\"},\"colorscale\":[[0.0,\"#0d0887\"],[0.1111111111111111,\"#46039f\"],[0.2222222222222222,\"#7201a8\"],[0.3333333333333333,\"#9c179e\"],[0.4444444444444444,\"#bd3786\"],[0.5555555555555556,\"#d8576b\"],[0.6666666666666666,\"#ed7953\"],[0.7777777777777778,\"#fb9f3a\"],[0.8888888888888888,\"#fdca26\"],[1.0,\"#f0f921\"]]}],\"heatmapgl\":[{\"type\":\"heatmapgl\",\"colorbar\":{\"outlinewidth\":0,\"ticks\":\"\"},\"colorscale\":[[0.0,\"#0d0887\"],[0.1111111111111111,\"#46039f\"],[0.2222222222222222,\"#7201a8\"],[0.3333333333333333,\"#9c179e\"],[0.4444444444444444,\"#bd3786\"],[0.5555555555555556,\"#d8576b\"],[0.6666666666666666,\"#ed7953\"],[0.7777777777777778,\"#fb9f3a\"],[0.8888888888888888,\"#fdca26\"],[1.0,\"#f0f921\"]]}],\"contourcarpet\":[{\"type\":\"contourcarpet\",\"colorbar\":{\"outlinewidth\":0,\"ticks\":\"\"}}],\"contour\":[{\"type\":\"contour\",\"colorbar\":{\"outlinewidth\":0,\"ticks\":\"\"},\"colorscale\":[[0.0,\"#0d0887\"],[0.1111111111111111,\"#46039f\"],[0.2222222222222222,\"#7201a8\"],[0.3333333333333333,\"#9c179e\"],[0.4444444444444444,\"#bd3786\"],[0.5555555555555556,\"#d8576b\"],[0.6666666666666666,\"#ed7953\"],[0.7777777777777778,\"#fb9f3a\"],[0.8888888888888888,\"#fdca26\"],[1.0,\"#f0f921\"]]}],\"surface\":[{\"type\":\"surface\",\"colorbar\":{\"outlinewidth\":0,\"ticks\":\"\"},\"colorscale\":[[0.0,\"#0d0887\"],[0.1111111111111111,\"#46039f\"],[0.2222222222222222,\"#7201a8\"],[0.3333333333333333,\"#9c179e\"],[0.4444444444444444,\"#bd3786\"],[0.5555555555555556,\"#d8576b\"],[0.6666666666666666,\"#ed7953\"],[0.7777777777777778,\"#fb9f3a\"],[0.8888888888888888,\"#fdca26\"],[1.0,\"#f0f921\"]]}],\"mesh3d\":[{\"type\":\"mesh3d\",\"colorbar\":{\"outlinewidth\":0,\"ticks\":\"\"}}],\"scatter\":[{\"fillpattern\":{\"fillmode\":\"overlay\",\"size\":10,\"solidity\":0.2},\"type\":\"scatter\"}],\"parcoords\":[{\"type\":\"parcoords\",\"line\":{\"colorbar\":{\"outlinewidth\":0,\"ticks\":\"\"}}}],\"scatterpolargl\":[{\"type\":\"scatterpolargl\",\"marker\":{\"colorbar\":{\"outlinewidth\":0,\"ticks\":\"\"}}}],\"bar\":[{\"error_x\":{\"color\":\"#2a3f5f\"},\"error_y\":{\"color\":\"#2a3f5f\"},\"marker\":{\"line\":{\"color\":\"#E5ECF6\",\"width\":0.5},\"pattern\":{\"fillmode\":\"overlay\",\"size\":10,\"solidity\":0.2}},\"type\":\"bar\"}],\"scattergeo\":[{\"type\":\"scattergeo\",\"marker\":{\"colorbar\":{\"outlinewidth\":0,\"ticks\":\"\"}}}],\"scatterpolar\":[{\"type\":\"scatterpolar\",\"marker\":{\"colorbar\":{\"outlinewidth\":0,\"ticks\":\"\"}}}],\"histogram\":[{\"marker\":{\"pattern\":{\"fillmode\":\"overlay\",\"size\":10,\"solidity\":0.2}},\"type\":\"histogram\"}],\"scattergl\":[{\"type\":\"scattergl\",\"marker\":{\"colorbar\":{\"outlinewidth\":0,\"ticks\":\"\"}}}],\"scatter3d\":[{\"type\":\"scatter3d\",\"line\":{\"colorbar\":{\"outlinewidth\":0,\"ticks\":\"\"}},\"marker\":{\"colorbar\":{\"outlinewidth\":0,\"ticks\":\"\"}}}],\"scattermapbox\":[{\"type\":\"scattermapbox\",\"marker\":{\"colorbar\":{\"outlinewidth\":0,\"ticks\":\"\"}}}],\"scatterternary\":[{\"type\":\"scatterternary\",\"marker\":{\"colorbar\":{\"outlinewidth\":0,\"ticks\":\"\"}}}],\"scattercarpet\":[{\"type\":\"scattercarpet\",\"marker\":{\"colorbar\":{\"outlinewidth\":0,\"ticks\":\"\"}}}],\"carpet\":[{\"aaxis\":{\"endlinecolor\":\"#2a3f5f\",\"gridcolor\":\"white\",\"linecolor\":\"white\",\"minorgridcolor\":\"white\",\"startlinecolor\":\"#2a3f5f\"},\"baxis\":{\"endlinecolor\":\"#2a3f5f\",\"gridcolor\":\"white\",\"linecolor\":\"white\",\"minorgridcolor\":\"white\",\"startlinecolor\":\"#2a3f5f\"},\"type\":\"carpet\"}],\"table\":[{\"cells\":{\"fill\":{\"color\":\"#EBF0F8\"},\"line\":{\"color\":\"white\"}},\"header\":{\"fill\":{\"color\":\"#C8D4E3\"},\"line\":{\"color\":\"white\"}},\"type\":\"table\"}],\"barpolar\":[{\"marker\":{\"line\":{\"color\":\"#E5ECF6\",\"width\":0.5},\"pattern\":{\"fillmode\":\"overlay\",\"size\":10,\"solidity\":0.2}},\"type\":\"barpolar\"}],\"pie\":[{\"automargin\":true,\"type\":\"pie\"}]},\"layout\":{\"autotypenumbers\":\"strict\",\"colorway\":[\"#636efa\",\"#EF553B\",\"#00cc96\",\"#ab63fa\",\"#FFA15A\",\"#19d3f3\",\"#FF6692\",\"#B6E880\",\"#FF97FF\",\"#FECB52\"],\"font\":{\"color\":\"#2a3f5f\"},\"hovermode\":\"closest\",\"hoverlabel\":{\"align\":\"left\"},\"paper_bgcolor\":\"white\",\"plot_bgcolor\":\"#E5ECF6\",\"polar\":{\"bgcolor\":\"#E5ECF6\",\"angularaxis\":{\"gridcolor\":\"white\",\"linecolor\":\"white\",\"ticks\":\"\"},\"radialaxis\":{\"gridcolor\":\"white\",\"linecolor\":\"white\",\"ticks\":\"\"}},\"ternary\":{\"bgcolor\":\"#E5ECF6\",\"aaxis\":{\"gridcolor\":\"white\",\"linecolor\":\"white\",\"ticks\":\"\"},\"baxis\":{\"gridcolor\":\"white\",\"linecolor\":\"white\",\"ticks\":\"\"},\"caxis\":{\"gridcolor\":\"white\",\"linecolor\":\"white\",\"ticks\":\"\"}},\"coloraxis\":{\"colorbar\":{\"outlinewidth\":0,\"ticks\":\"\"}},\"colorscale\":{\"sequential\":[[0.0,\"#0d0887\"],[0.1111111111111111,\"#46039f\"],[0.2222222222222222,\"#7201a8\"],[0.3333333333333333,\"#9c179e\"],[0.4444444444444444,\"#bd3786\"],[0.5555555555555556,\"#d8576b\"],[0.6666666666666666,\"#ed7953\"],[0.7777777777777778,\"#fb9f3a\"],[0.8888888888888888,\"#fdca26\"],[1.0,\"#f0f921\"]],\"sequentialminus\":[[0.0,\"#0d0887\"],[0.1111111111111111,\"#46039f\"],[0.2222222222222222,\"#7201a8\"],[0.3333333333333333,\"#9c179e\"],[0.4444444444444444,\"#bd3786\"],[0.5555555555555556,\"#d8576b\"],[0.6666666666666666,\"#ed7953\"],[0.7777777777777778,\"#fb9f3a\"],[0.8888888888888888,\"#fdca26\"],[1.0,\"#f0f921\"]],\"diverging\":[[0,\"#8e0152\"],[0.1,\"#c51b7d\"],[0.2,\"#de77ae\"],[0.3,\"#f1b6da\"],[0.4,\"#fde0ef\"],[0.5,\"#f7f7f7\"],[0.6,\"#e6f5d0\"],[0.7,\"#b8e186\"],[0.8,\"#7fbc41\"],[0.9,\"#4d9221\"],[1,\"#276419\"]]},\"xaxis\":{\"gridcolor\":\"white\",\"linecolor\":\"white\",\"ticks\":\"\",\"title\":{\"standoff\":15},\"zerolinecolor\":\"white\",\"automargin\":true,\"zerolinewidth\":2},\"yaxis\":{\"gridcolor\":\"white\",\"linecolor\":\"white\",\"ticks\":\"\",\"title\":{\"standoff\":15},\"zerolinecolor\":\"white\",\"automargin\":true,\"zerolinewidth\":2},\"scene\":{\"xaxis\":{\"backgroundcolor\":\"#E5ECF6\",\"gridcolor\":\"white\",\"linecolor\":\"white\",\"showbackground\":true,\"ticks\":\"\",\"zerolinecolor\":\"white\",\"gridwidth\":2},\"yaxis\":{\"backgroundcolor\":\"#E5ECF6\",\"gridcolor\":\"white\",\"linecolor\":\"white\",\"showbackground\":true,\"ticks\":\"\",\"zerolinecolor\":\"white\",\"gridwidth\":2},\"zaxis\":{\"backgroundcolor\":\"#E5ECF6\",\"gridcolor\":\"white\",\"linecolor\":\"white\",\"showbackground\":true,\"ticks\":\"\",\"zerolinecolor\":\"white\",\"gridwidth\":2}},\"shapedefaults\":{\"line\":{\"color\":\"#2a3f5f\"}},\"annotationdefaults\":{\"arrowcolor\":\"#2a3f5f\",\"arrowhead\":0,\"arrowwidth\":1},\"geo\":{\"bgcolor\":\"white\",\"landcolor\":\"#E5ECF6\",\"subunitcolor\":\"white\",\"showland\":true,\"showlakes\":true,\"lakecolor\":\"white\"},\"title\":{\"x\":0.05},\"mapbox\":{\"style\":\"light\"}}}},                        {\"responsive\": true}                    ).then(function(){\n",
       "                            \n",
       "var gd = document.getElementById('83bae1e4-30f8-4b73-8b6e-ce4513f9a413');\n",
       "var x = new MutationObserver(function (mutations, observer) {{\n",
       "        var display = window.getComputedStyle(gd).display;\n",
       "        if (!display || display === 'none') {{\n",
       "            console.log([gd, 'removed!']);\n",
       "            Plotly.purge(gd);\n",
       "            observer.disconnect();\n",
       "        }}\n",
       "}});\n",
       "\n",
       "// Listen for the removal of the full notebook cells\n",
       "var notebookContainer = gd.closest('#notebook-container');\n",
       "if (notebookContainer) {{\n",
       "    x.observe(notebookContainer, {childList: true});\n",
       "}}\n",
       "\n",
       "// Listen for the clearing of the current output cell\n",
       "var outputEl = gd.closest('.output');\n",
       "if (outputEl) {{\n",
       "    x.observe(outputEl, {childList: true});\n",
       "}}\n",
       "\n",
       "                        })                };                });            </script>        </div>"
      ]
     },
     "metadata": {},
     "output_type": "display_data"
    }
   ],
   "source": [
    "fig = optuna.visualization.plot_optimization_history(study)\n",
    "fig.show()"
   ]
  },
  {
   "cell_type": "markdown",
   "metadata": {},
   "source": [
    "**Based on the above architecture and their optimum values we decide the final architecture and use it for further processing**"
   ]
  },
  {
   "cell_type": "code",
   "execution_count": 19,
   "metadata": {
    "execution": {
     "iopub.execute_input": "2023-04-06T16:29:30.697409Z",
     "iopub.status.busy": "2023-04-06T16:29:30.696686Z",
     "iopub.status.idle": "2023-04-06T16:29:30.829680Z",
     "shell.execute_reply": "2023-04-06T16:29:30.828673Z",
     "shell.execute_reply.started": "2023-04-06T16:29:30.697371Z"
    },
    "id": "fAHh7ATtOShW"
   },
   "outputs": [],
   "source": [
    "model = Sequential()\n",
    "model.add(Conv2D(\n",
    "                filters=47,\n",
    "                kernel_size=3,\n",
    "                padding=\"same\",\n",
    "                activation=\"relu\",\n",
    "                input_shape=(228, 228, 3)\n",
    "            ))\n",
    "model.add(MaxPooling2D(pool_size=(2, 2)))\n",
    "model.add(Dropout(rate=0.4464704583099741))\n",
    "model.add(Conv2D(\n",
    "                filters=47,\n",
    "                kernel_size=3,\n",
    "                padding=\"same\",\n",
    "                activation=\"relu\"\n",
    "                ))\n",
    "model.add(MaxPooling2D(pool_size=(2, 2)))\n",
    "model.add(Dropout(rate=0.4464704583099741))\n",
    "model.add(Flatten())\n",
    "model.add(Dense(units=641,activation=\"relu\"))\n",
    "model.add(Dense(units=641,activation=\"relu\"))\n",
    "model.add(Dense(units=641,activation=\"relu\"))\n",
    "model.add(Dense(units=641,activation=\"relu\"))\n",
    "model.add(Dense(units=641,activation=\"relu\"))\n",
    "model.add(Dropout(rate=0.4464704583099741))\n",
    "model.add(Dense(units=3, activation=\"softmax\"))\n",
    "model.compile(optimizer=Adam(learning_rate=0.0001329291894316216), loss=\"categorical_crossentropy\", metrics=[\"accuracy\"])"
   ]
  },
  {
   "cell_type": "code",
   "execution_count": 20,
   "metadata": {
    "execution": {
     "iopub.execute_input": "2023-04-06T16:30:20.444934Z",
     "iopub.status.busy": "2023-04-06T16:30:20.444539Z",
     "iopub.status.idle": "2023-04-06T16:31:13.793870Z",
     "shell.execute_reply": "2023-04-06T16:31:13.792827Z",
     "shell.execute_reply.started": "2023-04-06T16:30:20.444899Z"
    }
   },
   "outputs": [
    {
     "name": "stderr",
     "output_type": "stream",
     "text": [
      "2023-04-06 16:30:23.258754: E tensorflow/core/grappler/optimizers/meta_optimizer.cc:954] layout failed: INVALID_ARGUMENT: Size of values 0 does not match size of permutation 4 @ fanin shape insequential_5/dropout_14/dropout/SelectV2-2-TransposeNHWCToNCHW-LayoutOptimizer\n"
     ]
    }
   ],
   "source": [
    "history=model.fit(x_train, y_train, epochs=10, batch_size=32, verbose=0)"
   ]
  },
  {
   "cell_type": "code",
   "execution_count": 23,
   "metadata": {
    "execution": {
     "iopub.execute_input": "2023-04-06T16:32:15.425168Z",
     "iopub.status.busy": "2023-04-06T16:32:15.424784Z",
     "iopub.status.idle": "2023-04-06T16:32:15.658758Z",
     "shell.execute_reply": "2023-04-06T16:32:15.657749Z",
     "shell.execute_reply.started": "2023-04-06T16:32:15.425132Z"
    }
   },
   "outputs": [
    {
     "data": {
      "image/png": "[encoded data removed]",
      "text/plain": [
       "<Figure size 600x500 with 1 Axes>"
      ]
     },
     "metadata": {},
     "output_type": "display_data"
    }
   ],
   "source": [
    "import matplotlib.pyplot as plt \n",
    "%matplotlib inline\n",
    "plt.figure(figsize=(6, 5))\n",
    "plt.plot(history.history['accuracy'], color='r')\n",
    "plt.title('Model Accuracy', weight='bold', fontsize=16)\n",
    "plt.ylabel('accuracy', weight='bold', fontsize=14)\n",
    "plt.xlabel('epoch', weight='bold', fontsize=14)\n",
    "plt.ylim(0.1, 0.9)\n",
    "plt.xticks(weight='bold', fontsize=12)\n",
    "plt.yticks(weight='bold', fontsize=12)\n",
    "plt.legend(['train'], loc='upper left', prop={'size': 14})\n",
    "plt.grid(color = 'y', linewidth='0.5')\n",
    "plt.show()"
   ]
  },
  {
   "cell_type": "code",
   "execution_count": 24,
   "metadata": {
    "execution": {
     "iopub.execute_input": "2023-04-06T16:32:48.468619Z",
     "iopub.status.busy": "2023-04-06T16:32:48.468253Z",
     "iopub.status.idle": "2023-04-06T16:32:48.689841Z",
     "shell.execute_reply": "2023-04-06T16:32:48.688996Z",
     "shell.execute_reply.started": "2023-04-06T16:32:48.468585Z"
    }
   },
   "outputs": [
    {
     "data": {
      "image/png": "[encoded data removed]",
      "text/plain": [
       "<Figure size 600x500 with 1 Axes>"
      ]
     },
     "metadata": {},
     "output_type": "display_data"
    }
   ],
   "source": [
    "plt.figure(figsize=(6, 5))\n",
    "plt.plot(history.history['loss'], color='r')\n",
    "plt.title('Model Loss', weight='bold', fontsize=16)\n",
    "plt.ylabel('Loss', weight='bold', fontsize=14)\n",
    "plt.xlabel('epoch', weight='bold', fontsize=14)\n",
    "# plt.ylim(0.1, 0.9)\n",
    "plt.xticks(weight='bold', fontsize=12)\n",
    "plt.yticks(weight='bold', fontsize=12)\n",
    "plt.legend(['train'], loc='upper left', prop={'size': 14})\n",
    "plt.grid(color = 'y', linewidth='0.5')\n",
    "plt.show()"
   ]
  },
  {
   "cell_type": "code",
   "execution_count": 26,
   "metadata": {
    "execution": {
     "iopub.execute_input": "2023-04-06T16:34:23.897110Z",
     "iopub.status.busy": "2023-04-06T16:34:23.896492Z",
     "iopub.status.idle": "2023-04-06T16:34:24.741814Z",
     "shell.execute_reply": "2023-04-06T16:34:24.740850Z",
     "shell.execute_reply.started": "2023-04-06T16:34:23.897011Z"
    }
   },
   "outputs": [
    {
     "name": "stdout",
     "output_type": "stream",
     "text": [
      "10/10 [==============================] - 0s 28ms/step - loss: 1.0254 - accuracy: 0.4631\n",
      "Accuracy of the model is :  46.3087260723114\n",
      "Loss of the model is :  102.54232883453369\n"
     ]
    }
   ],
   "source": [
    "eval=model.evaluate(x_test,y_test)\n",
    "print(\"Accuracy of the model is : \",eval[1]*100)\n",
    "print(\"Loss of the model is : \",eval[0]*100)"
   ]
  },
  {
   "cell_type": "markdown",
   "metadata": {},
   "source": [
    "**Using model to extract features and put it inot machine learning model.**"
   ]
  },
  {
   "cell_type": "code",
   "execution_count": 31,
   "metadata": {
    "execution": {
     "iopub.execute_input": "2023-04-06T16:40:42.715063Z",
     "iopub.status.busy": "2023-04-06T16:40:42.713985Z",
     "iopub.status.idle": "2023-04-06T16:40:46.723187Z",
     "shell.execute_reply": "2023-04-06T16:40:46.721978Z",
     "shell.execute_reply.started": "2023-04-06T16:40:42.715017Z"
    }
   },
   "outputs": [
    {
     "name": "stdout",
     "output_type": "stream",
     "text": [
      "38/38 [==============================] - 1s 22ms/step\n",
      "10/10 [==============================] - 0s 19ms/step\n",
      "Accuracy: 71.14093959731544\n"
     ]
    }
   ],
   "source": [
    "x_train_features = model.predict(x_train)\n",
    "x_test_features = model.predict(x_test)\n",
    "\n",
    "# Flatten features\n",
    "x_train_features = x_train_features.reshape(x_train.shape[0], -1)\n",
    "x_test_features = x_test_features.reshape(x_test.shape[0], -1)\n",
    "\n",
    "# Train random forest classifier on features\n",
    "from sklearn.ensemble import RandomForestClassifier\n",
    "from sklearn.metrics import accuracy_score\n",
    "rf = RandomForestClassifier(n_estimators=100, max_depth=20,random_state=42)\n",
    "rf.fit(x_train_features, y_train)\n",
    "y_pred = rf.predict(x_test_features)\n",
    "accuracy = accuracy_score(y_test, y_pred)\n",
    "print(f\"Accuracy: {accuracy*100}\")"
   ]
  },
  {
   "cell_type": "markdown",
   "metadata": {},
   "source": [
    "**Testing Multiple Classifiers**"
   ]
  },
  {
   "cell_type": "code",
   "execution_count": null,
   "metadata": {},
   "outputs": [],
   "source": []
  }
 ],
 "metadata": {
  "accelerator": "GPU",
  "colab": {
   "provenance": []
  },
  "gpuClass": "standard",
  "kernelspec": {
   "display_name": "Python 3 (ipykernel)",
   "language": "python",
   "name": "python3"
  },
  "language_info": {
   "codemirror_mode": {
    "name": "ipython",
    "version": 3
   },
   "file_extension": ".py",
   "mimetype": "text/x-python",
   "name": "python",
   "nbconvert_exporter": "python",
   "pygments_lexer": "ipython3",
   "version": "3.10.9"
  }
 },
 "nbformat": 4,
 "nbformat_minor": 4
}
